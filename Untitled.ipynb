{
 "cells": [
  {
   "cell_type": "code",
   "execution_count": 42,
   "id": "a844bb1e",
   "metadata": {},
   "outputs": [],
   "source": [
    "import pandas as pd \n",
    "import seaborn as sns\n",
    "import numpy as np\n",
    "from sklearn.linear_model import LinearRegression\n",
    "import matplotlib.pyplot as plt"
   ]
  },
  {
   "cell_type": "code",
   "execution_count": 3,
   "id": "09f688f0",
   "metadata": {
    "scrolled": false
   },
   "outputs": [
    {
     "data": {
      "text/html": [
       "<div>\n",
       "<style scoped>\n",
       "    .dataframe tbody tr th:only-of-type {\n",
       "        vertical-align: middle;\n",
       "    }\n",
       "\n",
       "    .dataframe tbody tr th {\n",
       "        vertical-align: top;\n",
       "    }\n",
       "\n",
       "    .dataframe thead th {\n",
       "        text-align: right;\n",
       "    }\n",
       "</style>\n",
       "<table border=\"1\" class=\"dataframe\">\n",
       "  <thead>\n",
       "    <tr style=\"text-align: right;\">\n",
       "      <th></th>\n",
       "      <th>user_id</th>\n",
       "      <th>date_</th>\n",
       "      <th>prosmotr</th>\n",
       "      <th>story_id</th>\n",
       "      <th>age</th>\n",
       "      <th>device_type</th>\n",
       "      <th>app_or_web</th>\n",
       "      <th>browser</th>\n",
       "      <th>os</th>\n",
       "      <th>gender</th>\n",
       "      <th>geo_country</th>\n",
       "      <th>geo_region</th>\n",
       "      <th>geo_city</th>\n",
       "      <th>day_of_week</th>\n",
       "      <th>user_hour</th>\n",
       "      <th>button_tap_flg</th>\n",
       "      <th>like_tap_flg</th>\n",
       "      <th>share_tap_flg</th>\n",
       "      <th>favorite_tap_flg</th>\n",
       "      <th>name</th>\n",
       "    </tr>\n",
       "  </thead>\n",
       "  <tbody>\n",
       "    <tr>\n",
       "      <th>0</th>\n",
       "      <td>7143ce74749c9d588e3bef0a43260a2cdc5f29ba9e020d...</td>\n",
       "      <td>2022-10-16</td>\n",
       "      <td>1</td>\n",
       "      <td>17281</td>\n",
       "      <td>29</td>\n",
       "      <td>HIGHEND_PHONE</td>\n",
       "      <td>APP</td>\n",
       "      <td>Mobile Safari</td>\n",
       "      <td>iOS</td>\n",
       "      <td>M</td>\n",
       "      <td>RU</td>\n",
       "      <td>MOW</td>\n",
       "      <td>Москва</td>\n",
       "      <td>6,0</td>\n",
       "      <td>15,0</td>\n",
       "      <td>1</td>\n",
       "      <td>0</td>\n",
       "      <td>0</td>\n",
       "      <td>0</td>\n",
       "      <td>NaN</td>\n",
       "    </tr>\n",
       "    <tr>\n",
       "      <th>1</th>\n",
       "      <td>5ab91653f362eb92a4f1c4148aff76c5145f40d3fbd8c7...</td>\n",
       "      <td>2022-10-20</td>\n",
       "      <td>1</td>\n",
       "      <td>11626</td>\n",
       "      <td>24</td>\n",
       "      <td>HIGHEND_PHONE</td>\n",
       "      <td>APP</td>\n",
       "      <td>Mobile Safari</td>\n",
       "      <td>iOS</td>\n",
       "      <td>M</td>\n",
       "      <td>RU</td>\n",
       "      <td>LEN</td>\n",
       "      <td>NaN</td>\n",
       "      <td>4,0</td>\n",
       "      <td>12,0</td>\n",
       "      <td>0</td>\n",
       "      <td>0</td>\n",
       "      <td>0</td>\n",
       "      <td>0</td>\n",
       "      <td>Ваша карта Tinkoff Black</td>\n",
       "    </tr>\n",
       "    <tr>\n",
       "      <th>2</th>\n",
       "      <td>4843a90a104d5b37e2db0c961dafb94c4a0d6ef40254f8...</td>\n",
       "      <td>2022-10-16</td>\n",
       "      <td>1</td>\n",
       "      <td>19778</td>\n",
       "      <td>30</td>\n",
       "      <td>HIGHEND_PHONE</td>\n",
       "      <td>APP</td>\n",
       "      <td>Unknown MIUI Browser</td>\n",
       "      <td>Android</td>\n",
       "      <td>F</td>\n",
       "      <td>RU</td>\n",
       "      <td>ORL</td>\n",
       "      <td>Орёл</td>\n",
       "      <td>7,0</td>\n",
       "      <td>15,0</td>\n",
       "      <td>0</td>\n",
       "      <td>0</td>\n",
       "      <td>0</td>\n",
       "      <td>0</td>\n",
       "      <td>Ваши  письма  в прошлое</td>\n",
       "    </tr>\n",
       "    <tr>\n",
       "      <th>3</th>\n",
       "      <td>17e7d4120c85e408dbc595ab0b4cb2ab635533ab2b0766...</td>\n",
       "      <td>2022-10-18</td>\n",
       "      <td>1</td>\n",
       "      <td>20879</td>\n",
       "      <td>50</td>\n",
       "      <td>HIGHEND_PHONE</td>\n",
       "      <td>APP</td>\n",
       "      <td>Mobile Safari</td>\n",
       "      <td>iOS</td>\n",
       "      <td>M</td>\n",
       "      <td>RU</td>\n",
       "      <td>TOM</td>\n",
       "      <td>Стрежевой</td>\n",
       "      <td>2,0</td>\n",
       "      <td>6,0</td>\n",
       "      <td>0</td>\n",
       "      <td>0</td>\n",
       "      <td>0</td>\n",
       "      <td>0</td>\n",
       "      <td>NaN</td>\n",
       "    </tr>\n",
       "    <tr>\n",
       "      <th>4</th>\n",
       "      <td>40d07976dfb816a26ee87dc4289dea4e19f8522b3cab67...</td>\n",
       "      <td>2022-10-21</td>\n",
       "      <td>1</td>\n",
       "      <td>20460</td>\n",
       "      <td>19</td>\n",
       "      <td>HIGHEND_PHONE</td>\n",
       "      <td>APP</td>\n",
       "      <td>Unknown Android App</td>\n",
       "      <td>Android</td>\n",
       "      <td>M</td>\n",
       "      <td>RU</td>\n",
       "      <td>IRK</td>\n",
       "      <td>Черемхово</td>\n",
       "      <td>5,0</td>\n",
       "      <td>11,0</td>\n",
       "      <td>0</td>\n",
       "      <td>0</td>\n",
       "      <td>0</td>\n",
       "      <td>0</td>\n",
       "      <td>NaN</td>\n",
       "    </tr>\n",
       "    <tr>\n",
       "      <th>...</th>\n",
       "      <td>...</td>\n",
       "      <td>...</td>\n",
       "      <td>...</td>\n",
       "      <td>...</td>\n",
       "      <td>...</td>\n",
       "      <td>...</td>\n",
       "      <td>...</td>\n",
       "      <td>...</td>\n",
       "      <td>...</td>\n",
       "      <td>...</td>\n",
       "      <td>...</td>\n",
       "      <td>...</td>\n",
       "      <td>...</td>\n",
       "      <td>...</td>\n",
       "      <td>...</td>\n",
       "      <td>...</td>\n",
       "      <td>...</td>\n",
       "      <td>...</td>\n",
       "      <td>...</td>\n",
       "      <td>...</td>\n",
       "    </tr>\n",
       "    <tr>\n",
       "      <th>645869</th>\n",
       "      <td>4b9fd6e0a7f993b58db71368d18d8449db1bd430e56814...</td>\n",
       "      <td>2022-10-22</td>\n",
       "      <td>1</td>\n",
       "      <td>20929</td>\n",
       "      <td>33</td>\n",
       "      <td>PERSONAL_COMPUTER</td>\n",
       "      <td>APP</td>\n",
       "      <td>Mobile Safari</td>\n",
       "      <td>iOS</td>\n",
       "      <td>M</td>\n",
       "      <td>RU</td>\n",
       "      <td>AMU</td>\n",
       "      <td>NaN</td>\n",
       "      <td>5,0</td>\n",
       "      <td>17,0</td>\n",
       "      <td>0</td>\n",
       "      <td>0</td>\n",
       "      <td>0</td>\n",
       "      <td>0</td>\n",
       "      <td>ПДД для  самокатов</td>\n",
       "    </tr>\n",
       "    <tr>\n",
       "      <th>645870</th>\n",
       "      <td>0d60d88a1ac1c81684d7494bac5766acba0a9cc33fde39...</td>\n",
       "      <td>2022-10-21</td>\n",
       "      <td>1</td>\n",
       "      <td>12739</td>\n",
       "      <td>25</td>\n",
       "      <td>HIGHEND_PHONE</td>\n",
       "      <td>APP</td>\n",
       "      <td>Mobile Safari</td>\n",
       "      <td>iOS</td>\n",
       "      <td>F</td>\n",
       "      <td>RU</td>\n",
       "      <td>MOW</td>\n",
       "      <td>Москва</td>\n",
       "      <td>3,0</td>\n",
       "      <td>20,0</td>\n",
       "      <td>0</td>\n",
       "      <td>0</td>\n",
       "      <td>0</td>\n",
       "      <td>0</td>\n",
       "      <td>Ваши траты на продукты</td>\n",
       "    </tr>\n",
       "    <tr>\n",
       "      <th>645871</th>\n",
       "      <td>afc1e853b47f1995e01fafa7640cea05d30608f27d5cd0...</td>\n",
       "      <td>2022-10-21</td>\n",
       "      <td>1</td>\n",
       "      <td>20031</td>\n",
       "      <td>24</td>\n",
       "      <td>HIGHEND_PHONE</td>\n",
       "      <td>APP</td>\n",
       "      <td>Mobile Safari</td>\n",
       "      <td>iOS</td>\n",
       "      <td>F</td>\n",
       "      <td>RU</td>\n",
       "      <td>SPE</td>\n",
       "      <td>Санкт-Петербург</td>\n",
       "      <td>4,0</td>\n",
       "      <td>13,0</td>\n",
       "      <td>0</td>\n",
       "      <td>0</td>\n",
       "      <td>0</td>\n",
       "      <td>0</td>\n",
       "      <td>Странные научные опыты</td>\n",
       "    </tr>\n",
       "    <tr>\n",
       "      <th>645872</th>\n",
       "      <td>5f9d3feba45af169b79c9d12ffa967b74957938178c217...</td>\n",
       "      <td>2022-10-16</td>\n",
       "      <td>1</td>\n",
       "      <td>12739</td>\n",
       "      <td>17</td>\n",
       "      <td>HIGHEND_PHONE</td>\n",
       "      <td>APP</td>\n",
       "      <td>Mobile Safari</td>\n",
       "      <td>iOS</td>\n",
       "      <td>M</td>\n",
       "      <td>RU</td>\n",
       "      <td>ROS</td>\n",
       "      <td>Ростов-на-Дону</td>\n",
       "      <td>6,0</td>\n",
       "      <td>20,0</td>\n",
       "      <td>0</td>\n",
       "      <td>0</td>\n",
       "      <td>0</td>\n",
       "      <td>0</td>\n",
       "      <td>Ваши траты на продукты</td>\n",
       "    </tr>\n",
       "    <tr>\n",
       "      <th>645873</th>\n",
       "      <td>c5adb57bfffc2d7b1a3063e30ca5fe1c39e17f55f310c0...</td>\n",
       "      <td>2022-10-18</td>\n",
       "      <td>1</td>\n",
       "      <td>20711</td>\n",
       "      <td>32</td>\n",
       "      <td>HIGHEND_PHONE</td>\n",
       "      <td>APP</td>\n",
       "      <td>Mobile Safari</td>\n",
       "      <td>iOS</td>\n",
       "      <td>F</td>\n",
       "      <td>RU</td>\n",
       "      <td>PER</td>\n",
       "      <td>Пермь</td>\n",
       "      <td>2,0</td>\n",
       "      <td>12,0</td>\n",
       "      <td>0</td>\n",
       "      <td>0</td>\n",
       "      <td>0</td>\n",
       "      <td>0</td>\n",
       "      <td>Вернуть авиабилет</td>\n",
       "    </tr>\n",
       "  </tbody>\n",
       "</table>\n",
       "<p>645874 rows × 20 columns</p>\n",
       "</div>"
      ],
      "text/plain": [
       "                                                  user_id       date_  \\\n",
       "0       7143ce74749c9d588e3bef0a43260a2cdc5f29ba9e020d...  2022-10-16   \n",
       "1       5ab91653f362eb92a4f1c4148aff76c5145f40d3fbd8c7...  2022-10-20   \n",
       "2       4843a90a104d5b37e2db0c961dafb94c4a0d6ef40254f8...  2022-10-16   \n",
       "3       17e7d4120c85e408dbc595ab0b4cb2ab635533ab2b0766...  2022-10-18   \n",
       "4       40d07976dfb816a26ee87dc4289dea4e19f8522b3cab67...  2022-10-21   \n",
       "...                                                   ...         ...   \n",
       "645869  4b9fd6e0a7f993b58db71368d18d8449db1bd430e56814...  2022-10-22   \n",
       "645870  0d60d88a1ac1c81684d7494bac5766acba0a9cc33fde39...  2022-10-21   \n",
       "645871  afc1e853b47f1995e01fafa7640cea05d30608f27d5cd0...  2022-10-21   \n",
       "645872  5f9d3feba45af169b79c9d12ffa967b74957938178c217...  2022-10-16   \n",
       "645873  c5adb57bfffc2d7b1a3063e30ca5fe1c39e17f55f310c0...  2022-10-18   \n",
       "\n",
       "        prosmotr  story_id  age        device_type app_or_web  \\\n",
       "0              1     17281   29      HIGHEND_PHONE        APP   \n",
       "1              1     11626   24      HIGHEND_PHONE        APP   \n",
       "2              1     19778   30      HIGHEND_PHONE        APP   \n",
       "3              1     20879   50      HIGHEND_PHONE        APP   \n",
       "4              1     20460   19      HIGHEND_PHONE        APP   \n",
       "...          ...       ...  ...                ...        ...   \n",
       "645869         1     20929   33  PERSONAL_COMPUTER        APP   \n",
       "645870         1     12739   25      HIGHEND_PHONE        APP   \n",
       "645871         1     20031   24      HIGHEND_PHONE        APP   \n",
       "645872         1     12739   17      HIGHEND_PHONE        APP   \n",
       "645873         1     20711   32      HIGHEND_PHONE        APP   \n",
       "\n",
       "                     browser       os gender geo_country geo_region  \\\n",
       "0              Mobile Safari      iOS      M          RU        MOW   \n",
       "1              Mobile Safari      iOS      M          RU        LEN   \n",
       "2       Unknown MIUI Browser  Android      F          RU        ORL   \n",
       "3              Mobile Safari      iOS      M          RU        TOM   \n",
       "4        Unknown Android App  Android      M          RU        IRK   \n",
       "...                      ...      ...    ...         ...        ...   \n",
       "645869         Mobile Safari      iOS      M          RU        AMU   \n",
       "645870         Mobile Safari      iOS      F          RU        MOW   \n",
       "645871         Mobile Safari      iOS      F          RU        SPE   \n",
       "645872         Mobile Safari      iOS      M          RU        ROS   \n",
       "645873         Mobile Safari      iOS      F          RU        PER   \n",
       "\n",
       "               geo_city day_of_week user_hour  button_tap_flg  like_tap_flg  \\\n",
       "0                Москва         6,0      15,0               1             0   \n",
       "1                   NaN         4,0      12,0               0             0   \n",
       "2                  Орёл         7,0      15,0               0             0   \n",
       "3             Стрежевой         2,0       6,0               0             0   \n",
       "4             Черемхово         5,0      11,0               0             0   \n",
       "...                 ...         ...       ...             ...           ...   \n",
       "645869              NaN         5,0      17,0               0             0   \n",
       "645870           Москва         3,0      20,0               0             0   \n",
       "645871  Санкт-Петербург         4,0      13,0               0             0   \n",
       "645872   Ростов-на-Дону         6,0      20,0               0             0   \n",
       "645873            Пермь         2,0      12,0               0             0   \n",
       "\n",
       "        share_tap_flg  favorite_tap_flg                      name  \n",
       "0                   0                 0                       NaN  \n",
       "1                   0                 0  Ваша карта Tinkoff Black  \n",
       "2                   0                 0   Ваши  письма  в прошлое  \n",
       "3                   0                 0                       NaN  \n",
       "4                   0                 0                       NaN  \n",
       "...               ...               ...                       ...  \n",
       "645869              0                 0        ПДД для  самокатов  \n",
       "645870              0                 0    Ваши траты на продукты  \n",
       "645871              0                 0    Странные научные опыты  \n",
       "645872              0                 0    Ваши траты на продукты  \n",
       "645873              0                 0         Вернуть авиабилет  \n",
       "\n",
       "[645874 rows x 20 columns]"
      ]
     },
     "execution_count": 3,
     "metadata": {},
     "output_type": "execute_result"
    }
   ],
   "source": [
    "data = pd.read_csv('final_ff_1.csv', on_bad_lines='skip', sep=';')\n",
    "data "
   ]
  },
  {
   "cell_type": "code",
   "execution_count": 4,
   "id": "2939beae",
   "metadata": {},
   "outputs": [
    {
     "name": "stdout",
     "output_type": "stream",
     "text": [
      "<class 'pandas.core.frame.DataFrame'>\n",
      "RangeIndex: 645874 entries, 0 to 645873\n",
      "Data columns (total 20 columns):\n",
      " #   Column            Non-Null Count   Dtype \n",
      "---  ------            --------------   ----- \n",
      " 0   user_id           645874 non-null  object\n",
      " 1   date_             645874 non-null  object\n",
      " 2   prosmotr          645874 non-null  int64 \n",
      " 3   story_id          645874 non-null  int64 \n",
      " 4   age               645874 non-null  int64 \n",
      " 5   device_type       645870 non-null  object\n",
      " 6   app_or_web        645874 non-null  object\n",
      " 7   browser           645871 non-null  object\n",
      " 8   os                645871 non-null  object\n",
      " 9   gender            645874 non-null  object\n",
      " 10  geo_country       645817 non-null  object\n",
      " 11  geo_region        637142 non-null  object\n",
      " 12  geo_city          568252 non-null  object\n",
      " 13  day_of_week       645390 non-null  object\n",
      " 14  user_hour         645390 non-null  object\n",
      " 15  button_tap_flg    645874 non-null  int64 \n",
      " 16  like_tap_flg      645874 non-null  int64 \n",
      " 17  share_tap_flg     645874 non-null  int64 \n",
      " 18  favorite_tap_flg  645874 non-null  int64 \n",
      " 19  name              381224 non-null  object\n",
      "dtypes: int64(7), object(13)\n",
      "memory usage: 98.6+ MB\n"
     ]
    }
   ],
   "source": [
    "data.info()"
   ]
  },
  {
   "cell_type": "markdown",
   "id": "2153b697",
   "metadata": {},
   "source": [
    "# Количество просмотров по дням "
   ]
  },
  {
   "cell_type": "code",
   "execution_count": 5,
   "id": "00e9da41",
   "metadata": {},
   "outputs": [
    {
     "name": "stderr",
     "output_type": "stream",
     "text": [
      "C:\\Users\\Владимир\\AppData\\Local\\Temp\\ipykernel_9576\\3211473739.py:3: SettingWithCopyWarning: \n",
      "A value is trying to be set on a copy of a slice from a DataFrame.\n",
      "Try using .loc[row_indexer,col_indexer] = value instead\n",
      "\n",
      "See the caveats in the documentation: https://pandas.pydata.org/pandas-docs/stable/user_guide/indexing.html#returning-a-view-versus-a-copy\n",
      "  data1.day_of_week = data1.day_of_week.apply(func)\n"
     ]
    }
   ],
   "source": [
    "func = lambda x : x[0]\n",
    "data1 = data[~(data.day_of_week.isna())]\n",
    "data1.day_of_week = data1.day_of_week.apply(func) "
   ]
  },
  {
   "cell_type": "code",
   "execution_count": 6,
   "id": "bf4a0029",
   "metadata": {},
   "outputs": [],
   "source": [
    "counts = data1.day_of_week.value_counts() \n",
    "counts = pd.DataFrame({'День недели': counts.index, 'Количество просмотров': counts})\n",
    "counts.sort_values('День недели')\n",
    "counts['День недели'] = counts['День недели'].astype('int')"
   ]
  },
  {
   "cell_type": "code",
   "execution_count": 7,
   "id": "3c595d6f",
   "metadata": {},
   "outputs": [
    {
     "data": {
      "text/plain": [
       "<AxesSubplot:xlabel='День недели', ylabel='Количество просмотров'>"
      ]
     },
     "execution_count": 7,
     "metadata": {},
     "output_type": "execute_result"
    },
    {
     "data": {
      "image/png": "[encoded data removed]",
      "text/plain": [
       "<Figure size 640x480 with 1 Axes>"
      ]
     },
     "metadata": {},
     "output_type": "display_data"
    }
   ],
   "source": [
    "sns.scatterplot(x='День недели', y='Количество просмотров', data=counts)"
   ]
  },
  {
   "cell_type": "markdown",
   "id": "bcb1ee58",
   "metadata": {},
   "source": [
    "# Анализ возраста "
   ]
  },
  {
   "cell_type": "code",
   "execution_count": 8,
   "id": "da67273a",
   "metadata": {},
   "outputs": [
    {
     "data": {
      "text/plain": [
       "95"
      ]
     },
     "execution_count": 8,
     "metadata": {},
     "output_type": "execute_result"
    }
   ],
   "source": [
    "data.age.unique().max()"
   ]
  },
  {
   "cell_type": "code",
   "execution_count": 9,
   "id": "f2c88b67",
   "metadata": {},
   "outputs": [
    {
     "data": {
      "text/plain": [
       "0"
      ]
     },
     "execution_count": 9,
     "metadata": {},
     "output_type": "execute_result"
    }
   ],
   "source": [
    "data.age.unique().min()"
   ]
  },
  {
   "cell_type": "code",
   "execution_count": 10,
   "id": "90a3ee95",
   "metadata": {},
   "outputs": [
    {
     "data": {
      "text/plain": [
       "<AxesSubplot:ylabel='age'>"
      ]
     },
     "execution_count": 10,
     "metadata": {},
     "output_type": "execute_result"
    },
    {
     "data": {
      "image/png": "[encoded data removed]",
      "text/plain": [
       "<Figure size 640x480 with 1 Axes>"
      ]
     },
     "metadata": {},
     "output_type": "display_data"
    }
   ],
   "source": [
    "sns.violinplot(y='age', data=data)"
   ]
  },
  {
   "cell_type": "code",
   "execution_count": 11,
   "id": "97ac4806",
   "metadata": {},
   "outputs": [],
   "source": [
    "data2 = data[(data.age <= 65) & (data.age >= 16)]"
   ]
  },
  {
   "cell_type": "code",
   "execution_count": 12,
   "id": "c4b29e32",
   "metadata": {},
   "outputs": [
    {
     "data": {
      "text/plain": [
       "32.24"
      ]
     },
     "execution_count": 12,
     "metadata": {},
     "output_type": "execute_result"
    }
   ],
   "source": [
    "round(data2.age.mean(), 2)"
   ]
  },
  {
   "cell_type": "code",
   "execution_count": 13,
   "id": "cb3d6c4b",
   "metadata": {},
   "outputs": [
    {
     "data": {
      "text/plain": [
       "<AxesSubplot:ylabel='age'>"
      ]
     },
     "execution_count": 13,
     "metadata": {},
     "output_type": "execute_result"
    },
    {
     "data": {
      "image/png": "[encoded data removed]",
      "text/plain": [
       "<Figure size 640x480 with 1 Axes>"
      ]
     },
     "metadata": {},
     "output_type": "display_data"
    }
   ],
   "source": [
    "sns.violinplot(y='age', data=data2)"
   ]
  },
  {
   "cell_type": "code",
   "execution_count": 14,
   "id": "3f4cff6e",
   "metadata": {},
   "outputs": [
    {
     "data": {
      "text/plain": [
       "31.0"
      ]
     },
     "execution_count": 14,
     "metadata": {},
     "output_type": "execute_result"
    }
   ],
   "source": [
    "data2.age.median()"
   ]
  },
  {
   "cell_type": "markdown",
   "id": "5706b290",
   "metadata": {},
   "source": [
    "# Анализ переменной gender"
   ]
  },
  {
   "cell_type": "code",
   "execution_count": 15,
   "id": "365badaf",
   "metadata": {},
   "outputs": [
    {
     "data": {
      "text/plain": [
       "<AxesSubplot:xlabel='gender', ylabel='Count'>"
      ]
     },
     "execution_count": 15,
     "metadata": {},
     "output_type": "execute_result"
    },
    {
     "data": {
      "image/png": "[encoded data removed]",
      "text/plain": [
       "<Figure size 640x480 with 1 Axes>"
      ]
     },
     "metadata": {},
     "output_type": "display_data"
    }
   ],
   "source": [
    "sns.histplot(data.gender) "
   ]
  },
  {
   "cell_type": "code",
   "execution_count": 16,
   "id": "195a7a3f",
   "metadata": {},
   "outputs": [
    {
     "name": "stdout",
     "output_type": "stream",
     "text": [
      "31.47; 31.0; 65; 16\n"
     ]
    }
   ],
   "source": [
    "data3 = data2[data2.gender == 'M'] \n",
    "print(round(data3.age.mean(), 2), data3.age.median(), data3.age.max(), data3.age.min(), sep='; ')"
   ]
  },
  {
   "cell_type": "code",
   "execution_count": 17,
   "id": "19441136",
   "metadata": {},
   "outputs": [
    {
     "name": "stdout",
     "output_type": "stream",
     "text": [
      "33.28; 32.0; 65; 16\n"
     ]
    }
   ],
   "source": [
    "data4 = data2[data2.gender == 'F'] \n",
    "print(round(data4.age.mean(), 2), data4.age.median(), data4.age.max(), data4.age.min(), sep='; ')"
   ]
  },
  {
   "cell_type": "markdown",
   "id": "84e3a555",
   "metadata": {},
   "source": [
    "# Анализ переменной user_hour"
   ]
  },
  {
   "cell_type": "code",
   "execution_count": 18,
   "id": "3f149c2b",
   "metadata": {},
   "outputs": [],
   "source": [
    "data5 = data[~(data.user_hour.isna())]"
   ]
  },
  {
   "cell_type": "code",
   "execution_count": 19,
   "id": "2dbca24e",
   "metadata": {},
   "outputs": [
    {
     "name": "stderr",
     "output_type": "stream",
     "text": [
      "C:\\Users\\Владимир\\AppData\\Local\\Temp\\ipykernel_9576\\1168309304.py:2: SettingWithCopyWarning: \n",
      "A value is trying to be set on a copy of a slice from a DataFrame.\n",
      "Try using .loc[row_indexer,col_indexer] = value instead\n",
      "\n",
      "See the caveats in the documentation: https://pandas.pydata.org/pandas-docs/stable/user_guide/indexing.html#returning-a-view-versus-a-copy\n",
      "  data5.user_hour = data5.user_hour.apply(f)\n",
      "C:\\Users\\Владимир\\AppData\\Local\\Temp\\ipykernel_9576\\1168309304.py:3: SettingWithCopyWarning: \n",
      "A value is trying to be set on a copy of a slice from a DataFrame.\n",
      "Try using .loc[row_indexer,col_indexer] = value instead\n",
      "\n",
      "See the caveats in the documentation: https://pandas.pydata.org/pandas-docs/stable/user_guide/indexing.html#returning-a-view-versus-a-copy\n",
      "  data5.user_hour = data5.user_hour.astype('int')\n"
     ]
    }
   ],
   "source": [
    "f = lambda x : x[:len(x) - 2]\n",
    "data5.user_hour = data5.user_hour.apply(f) \n",
    "data5.user_hour = data5.user_hour.astype('int') "
   ]
  },
  {
   "cell_type": "code",
   "execution_count": 20,
   "id": "74bee9e7",
   "metadata": {},
   "outputs": [
    {
     "data": {
      "text/plain": [
       "<AxesSubplot:ylabel='user_hour'>"
      ]
     },
     "execution_count": 20,
     "metadata": {},
     "output_type": "execute_result"
    },
    {
     "data": {
      "image/png": "[encoded data removed]",
      "text/plain": [
       "<Figure size 640x480 with 1 Axes>"
      ]
     },
     "metadata": {},
     "output_type": "display_data"
    }
   ],
   "source": [
    "sns.boxplot(y='user_hour', data=data5)"
   ]
  },
  {
   "cell_type": "code",
   "execution_count": 21,
   "id": "26c3a57f",
   "metadata": {},
   "outputs": [
    {
     "data": {
      "text/plain": [
       "13.461685182602768"
      ]
     },
     "execution_count": 21,
     "metadata": {},
     "output_type": "execute_result"
    }
   ],
   "source": [
    "data5.user_hour.mean()"
   ]
  },
  {
   "cell_type": "markdown",
   "id": "06a0283d",
   "metadata": {},
   "source": [
    "# ИССЛЕДОВАНИЕ"
   ]
  },
  {
   "cell_type": "markdown",
   "id": "cf4b4e0c",
   "metadata": {},
   "source": [
    "# Анализ переменной user_hour для активностей"
   ]
  },
  {
   "cell_type": "code",
   "execution_count": 22,
   "id": "02c9b4e2",
   "metadata": {},
   "outputs": [
    {
     "data": {
      "text/plain": [
       "<AxesSubplot:ylabel='user_hour'>"
      ]
     },
     "execution_count": 22,
     "metadata": {},
     "output_type": "execute_result"
    },
    {
     "data": {
      "image/png": "[encoded data removed]",
      "text/plain": [
       "<Figure size 640x480 with 1 Axes>"
      ]
     },
     "metadata": {},
     "output_type": "display_data"
    }
   ],
   "source": [
    "#посмотрим график box-plot для перменной user_hour у активностей (нажатие на кнопку, нажатие на лайк, поделиться историей, нажтие на сохранить в истории)\n",
    "sns.boxplot(data=data5[data5.like_tap_flg == 1], y='user_hour')\n",
    "#для лайков"
   ]
  },
  {
   "cell_type": "code",
   "execution_count": 23,
   "id": "2418bfb0",
   "metadata": {},
   "outputs": [
    {
     "data": {
      "text/plain": [
       "<AxesSubplot:ylabel='user_hour'>"
      ]
     },
     "execution_count": 23,
     "metadata": {},
     "output_type": "execute_result"
    },
    {
     "data": {
      "image/png": "[encoded data removed]",
      "text/plain": [
       "<Figure size 640x480 with 1 Axes>"
      ]
     },
     "metadata": {},
     "output_type": "display_data"
    }
   ],
   "source": [
    "sns.boxplot(data=data5[data5.share_tap_flg == 1], y='user_hour')\n",
    "#для нажатие на поделиться в исотрии"
   ]
  },
  {
   "cell_type": "code",
   "execution_count": 24,
   "id": "e2f9a51e",
   "metadata": {},
   "outputs": [
    {
     "data": {
      "text/plain": [
       "<AxesSubplot:ylabel='user_hour'>"
      ]
     },
     "execution_count": 24,
     "metadata": {},
     "output_type": "execute_result"
    },
    {
     "data": {
      "image/png": "[encoded data removed]",
      "text/plain": [
       "<Figure size 640x480 with 1 Axes>"
      ]
     },
     "metadata": {},
     "output_type": "display_data"
    }
   ],
   "source": [
    "sns.boxplot(data=data5[data5.favorite_tap_flg == 1], y='user_hour')\n",
    "#для нажатия на сохранить в истории"
   ]
  },
  {
   "cell_type": "code",
   "execution_count": 25,
   "id": "57d13dc9",
   "metadata": {},
   "outputs": [
    {
     "data": {
      "text/plain": [
       "<AxesSubplot:ylabel='user_hour'>"
      ]
     },
     "execution_count": 25,
     "metadata": {},
     "output_type": "execute_result"
    },
    {
     "data": {
      "image/png": "[encoded data removed]",
      "text/plain": [
       "<Figure size 640x480 with 1 Axes>"
      ]
     },
     "metadata": {},
     "output_type": "display_data"
    }
   ],
   "source": [
    "sns.boxplot(data=data5[data5.button_tap_flg == 1], y='user_hour')\n",
    "#для нажатия на кнопку в истории"
   ]
  },
  {
   "cell_type": "code",
   "execution_count": 26,
   "id": "a4df9133",
   "metadata": {},
   "outputs": [
    {
     "data": {
      "text/plain": [
       "0    558369\n",
       "1     84328\n",
       "2      2690\n",
       "3         1\n",
       "6         1\n",
       "4         1\n",
       "Name: button_tap_flg, dtype: int64"
      ]
     },
     "execution_count": 26,
     "metadata": {},
     "output_type": "execute_result"
    }
   ],
   "source": [
    "data5.button_tap_flg.value_counts() "
   ]
  },
  {
   "cell_type": "code",
   "execution_count": 27,
   "id": "353649a8",
   "metadata": {},
   "outputs": [
    {
     "name": "stderr",
     "output_type": "stream",
     "text": [
      "C:\\Users\\Владимир\\AppData\\Local\\Temp\\ipykernel_9576\\2341957241.py:7: SettingWithCopyWarning: \n",
      "A value is trying to be set on a copy of a slice from a DataFrame.\n",
      "Try using .loc[row_indexer,col_indexer] = value instead\n",
      "\n",
      "See the caveats in the documentation: https://pandas.pydata.org/pandas-docs/stable/user_guide/indexing.html#returning-a-view-versus-a-copy\n",
      "  data_new['act_index'] = w1 * (data_new.button_tap_flg - (data_new.like_tap_flg + data_new.share_tap_flg + data_new.favorite_tap_flg)) + w2 * data_new.like_tap_flg + w3 * data_new.share_tap_flg + w4 * data_new.favorite_tap_flg\n"
     ]
    },
    {
     "data": {
      "text/html": [
       "<div>\n",
       "<style scoped>\n",
       "    .dataframe tbody tr th:only-of-type {\n",
       "        vertical-align: middle;\n",
       "    }\n",
       "\n",
       "    .dataframe tbody tr th {\n",
       "        vertical-align: top;\n",
       "    }\n",
       "\n",
       "    .dataframe thead th {\n",
       "        text-align: right;\n",
       "    }\n",
       "</style>\n",
       "<table border=\"1\" class=\"dataframe\">\n",
       "  <thead>\n",
       "    <tr style=\"text-align: right;\">\n",
       "      <th></th>\n",
       "      <th>user_id</th>\n",
       "      <th>date_</th>\n",
       "      <th>prosmotr</th>\n",
       "      <th>story_id</th>\n",
       "      <th>age</th>\n",
       "      <th>device_type</th>\n",
       "      <th>app_or_web</th>\n",
       "      <th>browser</th>\n",
       "      <th>os</th>\n",
       "      <th>gender</th>\n",
       "      <th>...</th>\n",
       "      <th>geo_region</th>\n",
       "      <th>geo_city</th>\n",
       "      <th>day_of_week</th>\n",
       "      <th>user_hour</th>\n",
       "      <th>button_tap_flg</th>\n",
       "      <th>like_tap_flg</th>\n",
       "      <th>share_tap_flg</th>\n",
       "      <th>favorite_tap_flg</th>\n",
       "      <th>name</th>\n",
       "      <th>act_index</th>\n",
       "    </tr>\n",
       "  </thead>\n",
       "  <tbody>\n",
       "    <tr>\n",
       "      <th>0</th>\n",
       "      <td>7143ce74749c9d588e3bef0a43260a2cdc5f29ba9e020d...</td>\n",
       "      <td>2022-10-16</td>\n",
       "      <td>1</td>\n",
       "      <td>17281</td>\n",
       "      <td>29</td>\n",
       "      <td>HIGHEND_PHONE</td>\n",
       "      <td>APP</td>\n",
       "      <td>Mobile Safari</td>\n",
       "      <td>iOS</td>\n",
       "      <td>M</td>\n",
       "      <td>...</td>\n",
       "      <td>MOW</td>\n",
       "      <td>Москва</td>\n",
       "      <td>6,0</td>\n",
       "      <td>15</td>\n",
       "      <td>1</td>\n",
       "      <td>0</td>\n",
       "      <td>0</td>\n",
       "      <td>0</td>\n",
       "      <td>NaN</td>\n",
       "      <td>0.1</td>\n",
       "    </tr>\n",
       "    <tr>\n",
       "      <th>1</th>\n",
       "      <td>5ab91653f362eb92a4f1c4148aff76c5145f40d3fbd8c7...</td>\n",
       "      <td>2022-10-20</td>\n",
       "      <td>1</td>\n",
       "      <td>11626</td>\n",
       "      <td>24</td>\n",
       "      <td>HIGHEND_PHONE</td>\n",
       "      <td>APP</td>\n",
       "      <td>Mobile Safari</td>\n",
       "      <td>iOS</td>\n",
       "      <td>M</td>\n",
       "      <td>...</td>\n",
       "      <td>LEN</td>\n",
       "      <td>NaN</td>\n",
       "      <td>4,0</td>\n",
       "      <td>12</td>\n",
       "      <td>0</td>\n",
       "      <td>0</td>\n",
       "      <td>0</td>\n",
       "      <td>0</td>\n",
       "      <td>Ваша карта Tinkoff Black</td>\n",
       "      <td>0.0</td>\n",
       "    </tr>\n",
       "    <tr>\n",
       "      <th>2</th>\n",
       "      <td>4843a90a104d5b37e2db0c961dafb94c4a0d6ef40254f8...</td>\n",
       "      <td>2022-10-16</td>\n",
       "      <td>1</td>\n",
       "      <td>19778</td>\n",
       "      <td>30</td>\n",
       "      <td>HIGHEND_PHONE</td>\n",
       "      <td>APP</td>\n",
       "      <td>Unknown MIUI Browser</td>\n",
       "      <td>Android</td>\n",
       "      <td>F</td>\n",
       "      <td>...</td>\n",
       "      <td>ORL</td>\n",
       "      <td>Орёл</td>\n",
       "      <td>7,0</td>\n",
       "      <td>15</td>\n",
       "      <td>0</td>\n",
       "      <td>0</td>\n",
       "      <td>0</td>\n",
       "      <td>0</td>\n",
       "      <td>Ваши  письма  в прошлое</td>\n",
       "      <td>0.0</td>\n",
       "    </tr>\n",
       "    <tr>\n",
       "      <th>3</th>\n",
       "      <td>17e7d4120c85e408dbc595ab0b4cb2ab635533ab2b0766...</td>\n",
       "      <td>2022-10-18</td>\n",
       "      <td>1</td>\n",
       "      <td>20879</td>\n",
       "      <td>50</td>\n",
       "      <td>HIGHEND_PHONE</td>\n",
       "      <td>APP</td>\n",
       "      <td>Mobile Safari</td>\n",
       "      <td>iOS</td>\n",
       "      <td>M</td>\n",
       "      <td>...</td>\n",
       "      <td>TOM</td>\n",
       "      <td>Стрежевой</td>\n",
       "      <td>2,0</td>\n",
       "      <td>6</td>\n",
       "      <td>0</td>\n",
       "      <td>0</td>\n",
       "      <td>0</td>\n",
       "      <td>0</td>\n",
       "      <td>NaN</td>\n",
       "      <td>0.0</td>\n",
       "    </tr>\n",
       "    <tr>\n",
       "      <th>4</th>\n",
       "      <td>40d07976dfb816a26ee87dc4289dea4e19f8522b3cab67...</td>\n",
       "      <td>2022-10-21</td>\n",
       "      <td>1</td>\n",
       "      <td>20460</td>\n",
       "      <td>19</td>\n",
       "      <td>HIGHEND_PHONE</td>\n",
       "      <td>APP</td>\n",
       "      <td>Unknown Android App</td>\n",
       "      <td>Android</td>\n",
       "      <td>M</td>\n",
       "      <td>...</td>\n",
       "      <td>IRK</td>\n",
       "      <td>Черемхово</td>\n",
       "      <td>5,0</td>\n",
       "      <td>11</td>\n",
       "      <td>0</td>\n",
       "      <td>0</td>\n",
       "      <td>0</td>\n",
       "      <td>0</td>\n",
       "      <td>NaN</td>\n",
       "      <td>0.0</td>\n",
       "    </tr>\n",
       "    <tr>\n",
       "      <th>...</th>\n",
       "      <td>...</td>\n",
       "      <td>...</td>\n",
       "      <td>...</td>\n",
       "      <td>...</td>\n",
       "      <td>...</td>\n",
       "      <td>...</td>\n",
       "      <td>...</td>\n",
       "      <td>...</td>\n",
       "      <td>...</td>\n",
       "      <td>...</td>\n",
       "      <td>...</td>\n",
       "      <td>...</td>\n",
       "      <td>...</td>\n",
       "      <td>...</td>\n",
       "      <td>...</td>\n",
       "      <td>...</td>\n",
       "      <td>...</td>\n",
       "      <td>...</td>\n",
       "      <td>...</td>\n",
       "      <td>...</td>\n",
       "      <td>...</td>\n",
       "    </tr>\n",
       "    <tr>\n",
       "      <th>645869</th>\n",
       "      <td>4b9fd6e0a7f993b58db71368d18d8449db1bd430e56814...</td>\n",
       "      <td>2022-10-22</td>\n",
       "      <td>1</td>\n",
       "      <td>20929</td>\n",
       "      <td>33</td>\n",
       "      <td>PERSONAL_COMPUTER</td>\n",
       "      <td>APP</td>\n",
       "      <td>Mobile Safari</td>\n",
       "      <td>iOS</td>\n",
       "      <td>M</td>\n",
       "      <td>...</td>\n",
       "      <td>AMU</td>\n",
       "      <td>NaN</td>\n",
       "      <td>5,0</td>\n",
       "      <td>17</td>\n",
       "      <td>0</td>\n",
       "      <td>0</td>\n",
       "      <td>0</td>\n",
       "      <td>0</td>\n",
       "      <td>ПДД для  самокатов</td>\n",
       "      <td>0.0</td>\n",
       "    </tr>\n",
       "    <tr>\n",
       "      <th>645870</th>\n",
       "      <td>0d60d88a1ac1c81684d7494bac5766acba0a9cc33fde39...</td>\n",
       "      <td>2022-10-21</td>\n",
       "      <td>1</td>\n",
       "      <td>12739</td>\n",
       "      <td>25</td>\n",
       "      <td>HIGHEND_PHONE</td>\n",
       "      <td>APP</td>\n",
       "      <td>Mobile Safari</td>\n",
       "      <td>iOS</td>\n",
       "      <td>F</td>\n",
       "      <td>...</td>\n",
       "      <td>MOW</td>\n",
       "      <td>Москва</td>\n",
       "      <td>3,0</td>\n",
       "      <td>20</td>\n",
       "      <td>0</td>\n",
       "      <td>0</td>\n",
       "      <td>0</td>\n",
       "      <td>0</td>\n",
       "      <td>Ваши траты на продукты</td>\n",
       "      <td>0.0</td>\n",
       "    </tr>\n",
       "    <tr>\n",
       "      <th>645871</th>\n",
       "      <td>afc1e853b47f1995e01fafa7640cea05d30608f27d5cd0...</td>\n",
       "      <td>2022-10-21</td>\n",
       "      <td>1</td>\n",
       "      <td>20031</td>\n",
       "      <td>24</td>\n",
       "      <td>HIGHEND_PHONE</td>\n",
       "      <td>APP</td>\n",
       "      <td>Mobile Safari</td>\n",
       "      <td>iOS</td>\n",
       "      <td>F</td>\n",
       "      <td>...</td>\n",
       "      <td>SPE</td>\n",
       "      <td>Санкт-Петербург</td>\n",
       "      <td>4,0</td>\n",
       "      <td>13</td>\n",
       "      <td>0</td>\n",
       "      <td>0</td>\n",
       "      <td>0</td>\n",
       "      <td>0</td>\n",
       "      <td>Странные научные опыты</td>\n",
       "      <td>0.0</td>\n",
       "    </tr>\n",
       "    <tr>\n",
       "      <th>645872</th>\n",
       "      <td>5f9d3feba45af169b79c9d12ffa967b74957938178c217...</td>\n",
       "      <td>2022-10-16</td>\n",
       "      <td>1</td>\n",
       "      <td>12739</td>\n",
       "      <td>17</td>\n",
       "      <td>HIGHEND_PHONE</td>\n",
       "      <td>APP</td>\n",
       "      <td>Mobile Safari</td>\n",
       "      <td>iOS</td>\n",
       "      <td>M</td>\n",
       "      <td>...</td>\n",
       "      <td>ROS</td>\n",
       "      <td>Ростов-на-Дону</td>\n",
       "      <td>6,0</td>\n",
       "      <td>20</td>\n",
       "      <td>0</td>\n",
       "      <td>0</td>\n",
       "      <td>0</td>\n",
       "      <td>0</td>\n",
       "      <td>Ваши траты на продукты</td>\n",
       "      <td>0.0</td>\n",
       "    </tr>\n",
       "    <tr>\n",
       "      <th>645873</th>\n",
       "      <td>c5adb57bfffc2d7b1a3063e30ca5fe1c39e17f55f310c0...</td>\n",
       "      <td>2022-10-18</td>\n",
       "      <td>1</td>\n",
       "      <td>20711</td>\n",
       "      <td>32</td>\n",
       "      <td>HIGHEND_PHONE</td>\n",
       "      <td>APP</td>\n",
       "      <td>Mobile Safari</td>\n",
       "      <td>iOS</td>\n",
       "      <td>F</td>\n",
       "      <td>...</td>\n",
       "      <td>PER</td>\n",
       "      <td>Пермь</td>\n",
       "      <td>2,0</td>\n",
       "      <td>12</td>\n",
       "      <td>0</td>\n",
       "      <td>0</td>\n",
       "      <td>0</td>\n",
       "      <td>0</td>\n",
       "      <td>Вернуть авиабилет</td>\n",
       "      <td>0.0</td>\n",
       "    </tr>\n",
       "  </tbody>\n",
       "</table>\n",
       "<p>645390 rows × 21 columns</p>\n",
       "</div>"
      ],
      "text/plain": [
       "                                                  user_id       date_  \\\n",
       "0       7143ce74749c9d588e3bef0a43260a2cdc5f29ba9e020d...  2022-10-16   \n",
       "1       5ab91653f362eb92a4f1c4148aff76c5145f40d3fbd8c7...  2022-10-20   \n",
       "2       4843a90a104d5b37e2db0c961dafb94c4a0d6ef40254f8...  2022-10-16   \n",
       "3       17e7d4120c85e408dbc595ab0b4cb2ab635533ab2b0766...  2022-10-18   \n",
       "4       40d07976dfb816a26ee87dc4289dea4e19f8522b3cab67...  2022-10-21   \n",
       "...                                                   ...         ...   \n",
       "645869  4b9fd6e0a7f993b58db71368d18d8449db1bd430e56814...  2022-10-22   \n",
       "645870  0d60d88a1ac1c81684d7494bac5766acba0a9cc33fde39...  2022-10-21   \n",
       "645871  afc1e853b47f1995e01fafa7640cea05d30608f27d5cd0...  2022-10-21   \n",
       "645872  5f9d3feba45af169b79c9d12ffa967b74957938178c217...  2022-10-16   \n",
       "645873  c5adb57bfffc2d7b1a3063e30ca5fe1c39e17f55f310c0...  2022-10-18   \n",
       "\n",
       "        prosmotr  story_id  age        device_type app_or_web  \\\n",
       "0              1     17281   29      HIGHEND_PHONE        APP   \n",
       "1              1     11626   24      HIGHEND_PHONE        APP   \n",
       "2              1     19778   30      HIGHEND_PHONE        APP   \n",
       "3              1     20879   50      HIGHEND_PHONE        APP   \n",
       "4              1     20460   19      HIGHEND_PHONE        APP   \n",
       "...          ...       ...  ...                ...        ...   \n",
       "645869         1     20929   33  PERSONAL_COMPUTER        APP   \n",
       "645870         1     12739   25      HIGHEND_PHONE        APP   \n",
       "645871         1     20031   24      HIGHEND_PHONE        APP   \n",
       "645872         1     12739   17      HIGHEND_PHONE        APP   \n",
       "645873         1     20711   32      HIGHEND_PHONE        APP   \n",
       "\n",
       "                     browser       os gender  ... geo_region         geo_city  \\\n",
       "0              Mobile Safari      iOS      M  ...        MOW           Москва   \n",
       "1              Mobile Safari      iOS      M  ...        LEN              NaN   \n",
       "2       Unknown MIUI Browser  Android      F  ...        ORL             Орёл   \n",
       "3              Mobile Safari      iOS      M  ...        TOM        Стрежевой   \n",
       "4        Unknown Android App  Android      M  ...        IRK        Черемхово   \n",
       "...                      ...      ...    ...  ...        ...              ...   \n",
       "645869         Mobile Safari      iOS      M  ...        AMU              NaN   \n",
       "645870         Mobile Safari      iOS      F  ...        MOW           Москва   \n",
       "645871         Mobile Safari      iOS      F  ...        SPE  Санкт-Петербург   \n",
       "645872         Mobile Safari      iOS      M  ...        ROS   Ростов-на-Дону   \n",
       "645873         Mobile Safari      iOS      F  ...        PER            Пермь   \n",
       "\n",
       "       day_of_week user_hour  button_tap_flg  like_tap_flg  share_tap_flg  \\\n",
       "0              6,0        15               1             0              0   \n",
       "1              4,0        12               0             0              0   \n",
       "2              7,0        15               0             0              0   \n",
       "3              2,0         6               0             0              0   \n",
       "4              5,0        11               0             0              0   \n",
       "...            ...       ...             ...           ...            ...   \n",
       "645869         5,0        17               0             0              0   \n",
       "645870         3,0        20               0             0              0   \n",
       "645871         4,0        13               0             0              0   \n",
       "645872         6,0        20               0             0              0   \n",
       "645873         2,0        12               0             0              0   \n",
       "\n",
       "        favorite_tap_flg                      name act_index  \n",
       "0                      0                       NaN       0.1  \n",
       "1                      0  Ваша карта Tinkoff Black       0.0  \n",
       "2                      0   Ваши  письма  в прошлое       0.0  \n",
       "3                      0                       NaN       0.0  \n",
       "4                      0                       NaN       0.0  \n",
       "...                  ...                       ...       ...  \n",
       "645869                 0        ПДД для  самокатов       0.0  \n",
       "645870                 0    Ваши траты на продукты       0.0  \n",
       "645871                 0    Странные научные опыты       0.0  \n",
       "645872                 0    Ваши траты на продукты       0.0  \n",
       "645873                 0         Вернуть авиабилет       0.0  \n",
       "\n",
       "[645390 rows x 21 columns]"
      ]
     },
     "execution_count": 27,
     "metadata": {},
     "output_type": "execute_result"
    }
   ],
   "source": [
    "#ввод индекса активности\n",
    "w1 = 0.1\n",
    "w2 = 0.2\n",
    "w3 = 0.35\n",
    "w4= 0.45\n",
    "data_new = data5 \n",
    "data_new['act_index'] = w1 * (data_new.button_tap_flg - (data_new.like_tap_flg + data_new.share_tap_flg + data_new.favorite_tap_flg)) + w2 * data_new.like_tap_flg + w3 * data_new.share_tap_flg + w4 * data_new.favorite_tap_flg\n",
    "data_new"
   ]
  },
  {
   "cell_type": "code",
   "execution_count": 28,
   "id": "1c1e099a",
   "metadata": {},
   "outputs": [
    {
     "data": {
      "text/plain": [
       "<AxesSubplot:ylabel='act_index'>"
      ]
     },
     "execution_count": 28,
     "metadata": {},
     "output_type": "execute_result"
    },
    {
     "data": {
      "image/png": "[encoded data removed]",
      "text/plain": [
       "<Figure size 640x480 with 1 Axes>"
      ]
     },
     "metadata": {},
     "output_type": "display_data"
    }
   ],
   "source": [
    "sns.boxplot(data=data_new, y='act_index')"
   ]
  },
  {
   "cell_type": "code",
   "execution_count": 29,
   "id": "3d0f10d3",
   "metadata": {},
   "outputs": [
    {
     "data": {
      "text/plain": [
       "<AxesSubplot:ylabel='act_index'>"
      ]
     },
     "execution_count": 29,
     "metadata": {},
     "output_type": "execute_result"
    },
    {
     "data": {
      "image/png": "[encoded data removed]",
      "text/plain": [
       "<Figure size 640x480 with 1 Axes>"
      ]
     },
     "metadata": {},
     "output_type": "display_data"
    }
   ],
   "source": [
    "sns.boxplot(data=data_new[data_new.act_index >= 0.2], y='act_index')"
   ]
  },
  {
   "cell_type": "code",
   "execution_count": 30,
   "id": "e4049c90",
   "metadata": {},
   "outputs": [
    {
     "data": {
      "text/plain": [
       "<AxesSubplot:ylabel='act_index'>"
      ]
     },
     "execution_count": 30,
     "metadata": {},
     "output_type": "execute_result"
    },
    {
     "data": {
      "image/png": "[encoded data removed]",
      "text/plain": [
       "<Figure size 640x480 with 1 Axes>"
      ]
     },
     "metadata": {},
     "output_type": "display_data"
    }
   ],
   "source": [
    "#уберём значения меньше 0.2 и выбросы, которые влияют на среднее значение индекса активности\n",
    "data_new1 = data_new[(data_new.act_index >= 0.2) & (data_new.act_index <= 0.6)]\n",
    "sns.boxplot(data=data_new1, y='act_index')"
   ]
  },
  {
   "cell_type": "code",
   "execution_count": 31,
   "id": "0191d0cb",
   "metadata": {},
   "outputs": [
    {
     "name": "stdout",
     "output_type": "stream",
     "text": [
      "<class 'pandas.core.frame.DataFrame'>\n",
      "Int64Index: 645390 entries, 0 to 645873\n",
      "Data columns (total 21 columns):\n",
      " #   Column            Non-Null Count   Dtype  \n",
      "---  ------            --------------   -----  \n",
      " 0   user_id           645390 non-null  object \n",
      " 1   date_             645390 non-null  object \n",
      " 2   prosmotr          645390 non-null  int64  \n",
      " 3   story_id          645390 non-null  int64  \n",
      " 4   age               645390 non-null  int64  \n",
      " 5   device_type       645388 non-null  object \n",
      " 6   app_or_web        645390 non-null  object \n",
      " 7   browser           645389 non-null  object \n",
      " 8   os                645389 non-null  object \n",
      " 9   gender            645390 non-null  object \n",
      " 10  geo_country       645363 non-null  object \n",
      " 11  geo_region        636672 non-null  object \n",
      " 12  geo_city          568056 non-null  object \n",
      " 13  day_of_week       645390 non-null  object \n",
      " 14  user_hour         645390 non-null  int32  \n",
      " 15  button_tap_flg    645390 non-null  int64  \n",
      " 16  like_tap_flg      645390 non-null  int64  \n",
      " 17  share_tap_flg     645390 non-null  int64  \n",
      " 18  favorite_tap_flg  645390 non-null  int64  \n",
      " 19  name              380955 non-null  object \n",
      " 20  act_index         645390 non-null  float64\n",
      "dtypes: float64(1), int32(1), int64(7), object(12)\n",
      "memory usage: 105.9+ MB\n"
     ]
    }
   ],
   "source": [
    "data_new.info() "
   ]
  },
  {
   "cell_type": "code",
   "execution_count": 32,
   "id": "a010ab00",
   "metadata": {},
   "outputs": [
    {
     "name": "stdout",
     "output_type": "stream",
     "text": [
      "<class 'pandas.core.frame.DataFrame'>\n",
      "Int64Index: 7514 entries, 29 to 645793\n",
      "Data columns (total 21 columns):\n",
      " #   Column            Non-Null Count  Dtype  \n",
      "---  ------            --------------  -----  \n",
      " 0   user_id           7514 non-null   object \n",
      " 1   date_             7514 non-null   object \n",
      " 2   prosmotr          7514 non-null   int64  \n",
      " 3   story_id          7514 non-null   int64  \n",
      " 4   age               7514 non-null   int64  \n",
      " 5   device_type       7514 non-null   object \n",
      " 6   app_or_web        7514 non-null   object \n",
      " 7   browser           7514 non-null   object \n",
      " 8   os                7514 non-null   object \n",
      " 9   gender            7514 non-null   object \n",
      " 10  geo_country       7514 non-null   object \n",
      " 11  geo_region        7395 non-null   object \n",
      " 12  geo_city          6655 non-null   object \n",
      " 13  day_of_week       7514 non-null   object \n",
      " 14  user_hour         7514 non-null   int32  \n",
      " 15  button_tap_flg    7514 non-null   int64  \n",
      " 16  like_tap_flg      7514 non-null   int64  \n",
      " 17  share_tap_flg     7514 non-null   int64  \n",
      " 18  favorite_tap_flg  7514 non-null   int64  \n",
      " 19  name              4042 non-null   object \n",
      " 20  act_index         7514 non-null   float64\n",
      "dtypes: float64(1), int32(1), int64(7), object(12)\n",
      "memory usage: 1.2+ MB\n"
     ]
    }
   ],
   "source": [
    "data_new1.info()"
   ]
  },
  {
   "cell_type": "code",
   "execution_count": 33,
   "id": "a0ff926c",
   "metadata": {},
   "outputs": [
    {
     "data": {
      "text/html": [
       "<div>\n",
       "<style scoped>\n",
       "    .dataframe tbody tr th:only-of-type {\n",
       "        vertical-align: middle;\n",
       "    }\n",
       "\n",
       "    .dataframe tbody tr th {\n",
       "        vertical-align: top;\n",
       "    }\n",
       "\n",
       "    .dataframe thead th {\n",
       "        text-align: right;\n",
       "    }\n",
       "</style>\n",
       "<table border=\"1\" class=\"dataframe\">\n",
       "  <thead>\n",
       "    <tr style=\"text-align: right;\">\n",
       "      <th></th>\n",
       "      <th>user_hour</th>\n",
       "      <th>act_index</th>\n",
       "    </tr>\n",
       "  </thead>\n",
       "  <tbody>\n",
       "    <tr>\n",
       "      <th>0</th>\n",
       "      <td>0</td>\n",
       "      <td>0.315203</td>\n",
       "    </tr>\n",
       "    <tr>\n",
       "      <th>1</th>\n",
       "      <td>1</td>\n",
       "      <td>0.311585</td>\n",
       "    </tr>\n",
       "    <tr>\n",
       "      <th>2</th>\n",
       "      <td>2</td>\n",
       "      <td>0.326056</td>\n",
       "    </tr>\n",
       "    <tr>\n",
       "      <th>3</th>\n",
       "      <td>3</td>\n",
       "      <td>0.320290</td>\n",
       "    </tr>\n",
       "    <tr>\n",
       "      <th>4</th>\n",
       "      <td>4</td>\n",
       "      <td>0.298810</td>\n",
       "    </tr>\n",
       "    <tr>\n",
       "      <th>5</th>\n",
       "      <td>5</td>\n",
       "      <td>0.293478</td>\n",
       "    </tr>\n",
       "    <tr>\n",
       "      <th>6</th>\n",
       "      <td>6</td>\n",
       "      <td>0.289720</td>\n",
       "    </tr>\n",
       "    <tr>\n",
       "      <th>7</th>\n",
       "      <td>7</td>\n",
       "      <td>0.308291</td>\n",
       "    </tr>\n",
       "    <tr>\n",
       "      <th>8</th>\n",
       "      <td>8</td>\n",
       "      <td>0.288079</td>\n",
       "    </tr>\n",
       "    <tr>\n",
       "      <th>9</th>\n",
       "      <td>9</td>\n",
       "      <td>0.297092</td>\n",
       "    </tr>\n",
       "    <tr>\n",
       "      <th>10</th>\n",
       "      <td>10</td>\n",
       "      <td>0.301935</td>\n",
       "    </tr>\n",
       "    <tr>\n",
       "      <th>11</th>\n",
       "      <td>11</td>\n",
       "      <td>0.296092</td>\n",
       "    </tr>\n",
       "    <tr>\n",
       "      <th>12</th>\n",
       "      <td>12</td>\n",
       "      <td>0.302641</td>\n",
       "    </tr>\n",
       "    <tr>\n",
       "      <th>13</th>\n",
       "      <td>13</td>\n",
       "      <td>0.291945</td>\n",
       "    </tr>\n",
       "    <tr>\n",
       "      <th>14</th>\n",
       "      <td>14</td>\n",
       "      <td>0.285761</td>\n",
       "    </tr>\n",
       "    <tr>\n",
       "      <th>15</th>\n",
       "      <td>15</td>\n",
       "      <td>0.292155</td>\n",
       "    </tr>\n",
       "    <tr>\n",
       "      <th>16</th>\n",
       "      <td>16</td>\n",
       "      <td>0.276883</td>\n",
       "    </tr>\n",
       "    <tr>\n",
       "      <th>17</th>\n",
       "      <td>17</td>\n",
       "      <td>0.284457</td>\n",
       "    </tr>\n",
       "    <tr>\n",
       "      <th>18</th>\n",
       "      <td>18</td>\n",
       "      <td>0.297581</td>\n",
       "    </tr>\n",
       "    <tr>\n",
       "      <th>19</th>\n",
       "      <td>19</td>\n",
       "      <td>0.292744</td>\n",
       "    </tr>\n",
       "    <tr>\n",
       "      <th>20</th>\n",
       "      <td>20</td>\n",
       "      <td>0.289846</td>\n",
       "    </tr>\n",
       "    <tr>\n",
       "      <th>21</th>\n",
       "      <td>21</td>\n",
       "      <td>0.290060</td>\n",
       "    </tr>\n",
       "    <tr>\n",
       "      <th>22</th>\n",
       "      <td>22</td>\n",
       "      <td>0.297051</td>\n",
       "    </tr>\n",
       "    <tr>\n",
       "      <th>23</th>\n",
       "      <td>23</td>\n",
       "      <td>0.301455</td>\n",
       "    </tr>\n",
       "  </tbody>\n",
       "</table>\n",
       "</div>"
      ],
      "text/plain": [
       "    user_hour  act_index\n",
       "0           0   0.315203\n",
       "1           1   0.311585\n",
       "2           2   0.326056\n",
       "3           3   0.320290\n",
       "4           4   0.298810\n",
       "5           5   0.293478\n",
       "6           6   0.289720\n",
       "7           7   0.308291\n",
       "8           8   0.288079\n",
       "9           9   0.297092\n",
       "10         10   0.301935\n",
       "11         11   0.296092\n",
       "12         12   0.302641\n",
       "13         13   0.291945\n",
       "14         14   0.285761\n",
       "15         15   0.292155\n",
       "16         16   0.276883\n",
       "17         17   0.284457\n",
       "18         18   0.297581\n",
       "19         19   0.292744\n",
       "20         20   0.289846\n",
       "21         21   0.290060\n",
       "22         22   0.297051\n",
       "23         23   0.301455"
      ]
     },
     "execution_count": 33,
     "metadata": {},
     "output_type": "execute_result"
    }
   ],
   "source": [
    "hours_act = data_new1.groupby('user_hour', as_index=False).agg({'act_index': 'mean'}).sort_values('user_hour') \n",
    "hours_act"
   ]
  },
  {
   "cell_type": "code",
   "execution_count": 34,
   "id": "5ad03812",
   "metadata": {},
   "outputs": [
    {
     "data": {
      "text/plain": [
       "[Text(0.5, 0, 'Время суток (час)'),\n",
       " Text(0, 0.5, 'Средний индекс активности'),\n",
       " Text(0.5, 1.0, 'Зависимость между временем суток и активностью')]"
      ]
     },
     "execution_count": 34,
     "metadata": {},
     "output_type": "execute_result"
    },
    {
     "data": {
      "image/png": "[encoded data removed]",
      "text/plain": [
       "<Figure size 640x480 with 1 Axes>"
      ]
     },
     "metadata": {},
     "output_type": "display_data"
    }
   ],
   "source": [
    "#построим диаграмму рассеяния, по x будет час, по y = средний индекс активности в этот час\n",
    "sns.scatterplot(data=hours_act, x='user_hour', y='act_index').set(xlabel='Время суток (час)', ylabel='Средний индекс активности', title='Зависимость между временем суток и активностью')"
   ]
  },
  {
   "cell_type": "code",
   "execution_count": 35,
   "id": "d9fe51dc",
   "metadata": {},
   "outputs": [
    {
     "name": "stdout",
     "output_type": "stream",
     "text": [
      "[[ 1.         -0.59464399]\n",
      " [-0.59464399  1.        ]]\n"
     ]
    }
   ],
   "source": [
    "#посчитаем коэффициаент корреляции между часами и индексом активности\n",
    "#корреляция по модулю близка к 0.6, имеет знак минус. Это означает, что зависимость между часами и активностью существует, при этом активность утром выше активности в середине дня и вечером\n",
    "corr_hours_act = np.corrcoef(hours_act.user_hour, hours_act.act_index)\n",
    "print(corr_hours_act)"
   ]
  },
  {
   "cell_type": "markdown",
   "id": "0b48b9e8",
   "metadata": {},
   "source": [
    "# Модель линейной регрессии"
   ]
  },
  {
   "cell_type": "code",
   "execution_count": 36,
   "id": "46a8c8ec",
   "metadata": {},
   "outputs": [],
   "source": [
    "#опеределение данных для создания модели: независимая переменная - час, зависимая переменная - индекс активности\n",
    "#модель имеет формулу y=b0 + b1 * x\n",
    "x = np.array(list(hours_act['user_hour'])).reshape((-1, 1))\n",
    "y = np.array(list(hours_act['act_index']))"
   ]
  },
  {
   "cell_type": "code",
   "execution_count": 37,
   "id": "66defc90",
   "metadata": {},
   "outputs": [],
   "source": [
    "#создание модели \n",
    "model = LinearRegression().fit(x, y)"
   ]
  },
  {
   "cell_type": "code",
   "execution_count": 40,
   "id": "59f452ad",
   "metadata": {},
   "outputs": [
    {
     "name": "stdout",
     "output_type": "stream",
     "text": [
      "b0: 0.30915\n",
      "b1: -0.00098\n"
     ]
    }
   ],
   "source": [
    "#получение параметров линейной регрессииб округлённых до пяти знаков после запятой\n",
    "#функция имеет вид: f(x) = 0.30915 - 0.00098 * x. Эта функция предсказывает примерный средний индекс активности для определённого часа\n",
    "print('b0:', round(model.intercept_, 5)) \n",
    "print('b1:', round(model.coef_[0], 5))\n",
    "b0 = round(model.intercept_, 5)\n",
    "b1 = round(model.coef_[0], 5)"
   ]
  },
  {
   "cell_type": "code",
   "execution_count": 47,
   "id": "f524b87e",
   "metadata": {},
   "outputs": [
    {
     "data": {
      "image/png": "[encoded data removed]",
      "text/plain": [
       "<Figure size 640x480 with 1 Axes>"
      ]
     },
     "metadata": {},
     "output_type": "display_data"
    }
   ],
   "source": [
    "#из графика видно, что в ночное время средний индекс активности уменьшается при увеличении часа. Пик активности наблюдается в ночное время\n",
    "#гимпотеза о том, что вечером активность выше, опровергнута\n",
    "plt.plot(x, y, 'o', color='black') \n",
    "plt.plot(x, b0 + b1 * x, color='red')\n",
    "plt.grid()"
   ]
  },
  {
   "cell_type": "markdown",
   "id": "34053729",
   "metadata": {},
   "source": [
    "# Выводы из графика"
   ]
  },
  {
   "cell_type": "code",
   "execution_count": null,
   "id": "d3835261",
   "metadata": {},
   "outputs": [],
   "source": [
    "#Поскольку данный график показывает нам средний индекс активности в определённые часы \n",
    "#то эта информация поможет определиться с тем, в какое время суток реклама эффективнее\n",
    "#поскольку пик активности наблюдается ночью, то это значит, что реклама будет эффективнее всего в это время\n",
    "#ведь благодаря высокой активности сторисы с рекламой смогут распространиться, дойти до большего количества человек "
   ]
  }
 ],
 "metadata": {
  "kernelspec": {
   "display_name": "Python 3 (ipykernel)",
   "language": "python",
   "name": "python3"
  },
  "language_info": {
   "codemirror_mode": {
    "name": "ipython",
    "version": 3
   },
   "file_extension": ".py",
   "mimetype": "text/x-python",
   "name": "python",
   "nbconvert_exporter": "python",
   "pygments_lexer": "ipython3",
   "version": "3.9.13"
  }
 },
 "nbformat": 4,
 "nbformat_minor": 5
}
