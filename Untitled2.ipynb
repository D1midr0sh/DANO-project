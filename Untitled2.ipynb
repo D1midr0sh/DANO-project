{
 "cells": [
  {
   "cell_type": "code",
   "execution_count": 2,
   "id": "d4b809d6",
   "metadata": {},
   "outputs": [],
   "source": [
    "import pandas as pd \n",
    "import seaborn as sns\n",
    "import numpy as np\n",
    "import matplotlib.pyplot as plt"
   ]
  },
  {
   "cell_type": "code",
   "execution_count": 33,
   "id": "20924681",
   "metadata": {},
   "outputs": [
    {
     "name": "stdout",
     "output_type": "stream",
     "text": [
      "<class 'pandas.core.frame.DataFrame'>\n",
      "RangeIndex: 645874 entries, 0 to 645873\n",
      "Data columns (total 20 columns):\n",
      " #   Column            Non-Null Count   Dtype \n",
      "---  ------            --------------   ----- \n",
      " 0   user_id           645874 non-null  object\n",
      " 1   date_             645874 non-null  object\n",
      " 2   prosmotr          645874 non-null  int64 \n",
      " 3   story_id          645874 non-null  int64 \n",
      " 4   age               645874 non-null  int64 \n",
      " 5   device_type       645870 non-null  object\n",
      " 6   app_or_web        645874 non-null  object\n",
      " 7   browser           645871 non-null  object\n",
      " 8   os                645871 non-null  object\n",
      " 9   gender            645874 non-null  object\n",
      " 10  geo_country       645817 non-null  object\n",
      " 11  geo_region        637142 non-null  object\n",
      " 12  geo_city          568252 non-null  object\n",
      " 13  day_of_week       645390 non-null  object\n",
      " 14  user_hour         645390 non-null  object\n",
      " 15  button_tap_flg    645874 non-null  int64 \n",
      " 16  like_tap_flg      645874 non-null  int64 \n",
      " 17  share_tap_flg     645874 non-null  int64 \n",
      " 18  favorite_tap_flg  645874 non-null  int64 \n",
      " 19  name              381224 non-null  object\n",
      "dtypes: int64(7), object(13)\n",
      "memory usage: 98.6+ MB\n"
     ]
    }
   ],
   "source": [
    "data = pd.read_csv('final_ff_1.csv', on_bad_lines='skip', sep=';')\n",
    "data.info()"
   ]
  },
  {
   "cell_type": "code",
   "execution_count": 4,
   "id": "144127fe",
   "metadata": {},
   "outputs": [
    {
     "data": {
      "text/plain": [
       "4,0    147825\n",
       "5,0    121725\n",
       "6,0    119300\n",
       "7,0    118464\n",
       "1,0     57985\n",
       "2,0     47830\n",
       "3,0     32261\n",
       "Name: day_of_week, dtype: int64"
      ]
     },
     "execution_count": 4,
     "metadata": {},
     "output_type": "execute_result"
    }
   ],
   "source": [
    "data.day_of_week.value_counts()"
   ]
  },
  {
   "cell_type": "code",
   "execution_count": 34,
   "id": "665aea15",
   "metadata": {},
   "outputs": [
    {
     "data": {
      "text/html": [
       "<div>\n",
       "<style scoped>\n",
       "    .dataframe tbody tr th:only-of-type {\n",
       "        vertical-align: middle;\n",
       "    }\n",
       "\n",
       "    .dataframe tbody tr th {\n",
       "        vertical-align: top;\n",
       "    }\n",
       "\n",
       "    .dataframe thead th {\n",
       "        text-align: right;\n",
       "    }\n",
       "</style>\n",
       "<table border=\"1\" class=\"dataframe\">\n",
       "  <thead>\n",
       "    <tr style=\"text-align: right;\">\n",
       "      <th></th>\n",
       "      <th>user_id</th>\n",
       "      <th>date_</th>\n",
       "      <th>prosmotr</th>\n",
       "      <th>story_id</th>\n",
       "      <th>age</th>\n",
       "      <th>device_type</th>\n",
       "      <th>app_or_web</th>\n",
       "      <th>browser</th>\n",
       "      <th>os</th>\n",
       "      <th>gender</th>\n",
       "      <th>geo_country</th>\n",
       "      <th>geo_region</th>\n",
       "      <th>geo_city</th>\n",
       "      <th>day_of_week</th>\n",
       "      <th>user_hour</th>\n",
       "      <th>button_tap_flg</th>\n",
       "      <th>like_tap_flg</th>\n",
       "      <th>share_tap_flg</th>\n",
       "      <th>favorite_tap_flg</th>\n",
       "      <th>name</th>\n",
       "    </tr>\n",
       "  </thead>\n",
       "  <tbody>\n",
       "    <tr>\n",
       "      <th>0</th>\n",
       "      <td>7143ce74749c9d588e3bef0a43260a2cdc5f29ba9e020d...</td>\n",
       "      <td>2022-10-16</td>\n",
       "      <td>1</td>\n",
       "      <td>17281</td>\n",
       "      <td>29</td>\n",
       "      <td>HIGHEND_PHONE</td>\n",
       "      <td>APP</td>\n",
       "      <td>Mobile Safari</td>\n",
       "      <td>iOS</td>\n",
       "      <td>M</td>\n",
       "      <td>RU</td>\n",
       "      <td>MOW</td>\n",
       "      <td>Москва</td>\n",
       "      <td>6,0</td>\n",
       "      <td>15</td>\n",
       "      <td>1</td>\n",
       "      <td>0</td>\n",
       "      <td>0</td>\n",
       "      <td>0</td>\n",
       "      <td>NaN</td>\n",
       "    </tr>\n",
       "    <tr>\n",
       "      <th>1</th>\n",
       "      <td>5ab91653f362eb92a4f1c4148aff76c5145f40d3fbd8c7...</td>\n",
       "      <td>2022-10-20</td>\n",
       "      <td>1</td>\n",
       "      <td>11626</td>\n",
       "      <td>24</td>\n",
       "      <td>HIGHEND_PHONE</td>\n",
       "      <td>APP</td>\n",
       "      <td>Mobile Safari</td>\n",
       "      <td>iOS</td>\n",
       "      <td>M</td>\n",
       "      <td>RU</td>\n",
       "      <td>LEN</td>\n",
       "      <td>NaN</td>\n",
       "      <td>4,0</td>\n",
       "      <td>12</td>\n",
       "      <td>0</td>\n",
       "      <td>0</td>\n",
       "      <td>0</td>\n",
       "      <td>0</td>\n",
       "      <td>Ваша карта Tinkoff Black</td>\n",
       "    </tr>\n",
       "    <tr>\n",
       "      <th>2</th>\n",
       "      <td>4843a90a104d5b37e2db0c961dafb94c4a0d6ef40254f8...</td>\n",
       "      <td>2022-10-16</td>\n",
       "      <td>1</td>\n",
       "      <td>19778</td>\n",
       "      <td>30</td>\n",
       "      <td>HIGHEND_PHONE</td>\n",
       "      <td>APP</td>\n",
       "      <td>Unknown MIUI Browser</td>\n",
       "      <td>Android</td>\n",
       "      <td>F</td>\n",
       "      <td>RU</td>\n",
       "      <td>ORL</td>\n",
       "      <td>Орёл</td>\n",
       "      <td>7,0</td>\n",
       "      <td>15</td>\n",
       "      <td>0</td>\n",
       "      <td>0</td>\n",
       "      <td>0</td>\n",
       "      <td>0</td>\n",
       "      <td>Ваши  письма  в прошлое</td>\n",
       "    </tr>\n",
       "    <tr>\n",
       "      <th>3</th>\n",
       "      <td>17e7d4120c85e408dbc595ab0b4cb2ab635533ab2b0766...</td>\n",
       "      <td>2022-10-18</td>\n",
       "      <td>1</td>\n",
       "      <td>20879</td>\n",
       "      <td>50</td>\n",
       "      <td>HIGHEND_PHONE</td>\n",
       "      <td>APP</td>\n",
       "      <td>Mobile Safari</td>\n",
       "      <td>iOS</td>\n",
       "      <td>M</td>\n",
       "      <td>RU</td>\n",
       "      <td>TOM</td>\n",
       "      <td>Стрежевой</td>\n",
       "      <td>2,0</td>\n",
       "      <td>6</td>\n",
       "      <td>0</td>\n",
       "      <td>0</td>\n",
       "      <td>0</td>\n",
       "      <td>0</td>\n",
       "      <td>NaN</td>\n",
       "    </tr>\n",
       "    <tr>\n",
       "      <th>4</th>\n",
       "      <td>40d07976dfb816a26ee87dc4289dea4e19f8522b3cab67...</td>\n",
       "      <td>2022-10-21</td>\n",
       "      <td>1</td>\n",
       "      <td>20460</td>\n",
       "      <td>19</td>\n",
       "      <td>HIGHEND_PHONE</td>\n",
       "      <td>APP</td>\n",
       "      <td>Unknown Android App</td>\n",
       "      <td>Android</td>\n",
       "      <td>M</td>\n",
       "      <td>RU</td>\n",
       "      <td>IRK</td>\n",
       "      <td>Черемхово</td>\n",
       "      <td>5,0</td>\n",
       "      <td>11</td>\n",
       "      <td>0</td>\n",
       "      <td>0</td>\n",
       "      <td>0</td>\n",
       "      <td>0</td>\n",
       "      <td>NaN</td>\n",
       "    </tr>\n",
       "  </tbody>\n",
       "</table>\n",
       "</div>"
      ],
      "text/plain": [
       "                                             user_id       date_  prosmotr  \\\n",
       "0  7143ce74749c9d588e3bef0a43260a2cdc5f29ba9e020d...  2022-10-16         1   \n",
       "1  5ab91653f362eb92a4f1c4148aff76c5145f40d3fbd8c7...  2022-10-20         1   \n",
       "2  4843a90a104d5b37e2db0c961dafb94c4a0d6ef40254f8...  2022-10-16         1   \n",
       "3  17e7d4120c85e408dbc595ab0b4cb2ab635533ab2b0766...  2022-10-18         1   \n",
       "4  40d07976dfb816a26ee87dc4289dea4e19f8522b3cab67...  2022-10-21         1   \n",
       "\n",
       "   story_id  age    device_type app_or_web               browser       os  \\\n",
       "0     17281   29  HIGHEND_PHONE        APP         Mobile Safari      iOS   \n",
       "1     11626   24  HIGHEND_PHONE        APP         Mobile Safari      iOS   \n",
       "2     19778   30  HIGHEND_PHONE        APP  Unknown MIUI Browser  Android   \n",
       "3     20879   50  HIGHEND_PHONE        APP         Mobile Safari      iOS   \n",
       "4     20460   19  HIGHEND_PHONE        APP   Unknown Android App  Android   \n",
       "\n",
       "  gender geo_country geo_region   geo_city day_of_week user_hour  \\\n",
       "0      M          RU        MOW     Москва         6,0        15   \n",
       "1      M          RU        LEN        NaN         4,0        12   \n",
       "2      F          RU        ORL       Орёл         7,0        15   \n",
       "3      M          RU        TOM  Стрежевой         2,0         6   \n",
       "4      M          RU        IRK  Черемхово         5,0        11   \n",
       "\n",
       "   button_tap_flg  like_tap_flg  share_tap_flg  favorite_tap_flg  \\\n",
       "0               1             0              0                 0   \n",
       "1               0             0              0                 0   \n",
       "2               0             0              0                 0   \n",
       "3               0             0              0                 0   \n",
       "4               0             0              0                 0   \n",
       "\n",
       "                       name  \n",
       "0                       NaN  \n",
       "1  Ваша карта Tinkoff Black  \n",
       "2   Ваши  письма  в прошлое  \n",
       "3                       NaN  \n",
       "4                       NaN  "
      ]
     },
     "execution_count": 34,
     "metadata": {},
     "output_type": "execute_result"
    }
   ],
   "source": [
    "data = data[~(data.user_hour.isna())]\n",
    "for i in range(data.shape[0]): \n",
    "    hour = data.iloc[i, 14] \n",
    "    hour = hour[:len(hour) - 2]\n",
    "    data.iloc[i, 14] = int(hour) \n",
    "data.head()"
   ]
  },
  {
   "cell_type": "code",
   "execution_count": 35,
   "id": "5950a693",
   "metadata": {},
   "outputs": [
    {
     "data": {
      "text/html": [
       "<div>\n",
       "<style scoped>\n",
       "    .dataframe tbody tr th:only-of-type {\n",
       "        vertical-align: middle;\n",
       "    }\n",
       "\n",
       "    .dataframe tbody tr th {\n",
       "        vertical-align: top;\n",
       "    }\n",
       "\n",
       "    .dataframe thead th {\n",
       "        text-align: right;\n",
       "    }\n",
       "</style>\n",
       "<table border=\"1\" class=\"dataframe\">\n",
       "  <thead>\n",
       "    <tr style=\"text-align: right;\">\n",
       "      <th></th>\n",
       "      <th>user_id</th>\n",
       "      <th>date_</th>\n",
       "      <th>prosmotr</th>\n",
       "      <th>story_id</th>\n",
       "      <th>age</th>\n",
       "      <th>device_type</th>\n",
       "      <th>app_or_web</th>\n",
       "      <th>browser</th>\n",
       "      <th>os</th>\n",
       "      <th>gender</th>\n",
       "      <th>geo_country</th>\n",
       "      <th>geo_region</th>\n",
       "      <th>geo_city</th>\n",
       "      <th>day_of_week</th>\n",
       "      <th>user_hour</th>\n",
       "      <th>button_tap_flg</th>\n",
       "      <th>like_tap_flg</th>\n",
       "      <th>share_tap_flg</th>\n",
       "      <th>favorite_tap_flg</th>\n",
       "      <th>name</th>\n",
       "    </tr>\n",
       "  </thead>\n",
       "  <tbody>\n",
       "    <tr>\n",
       "      <th>0</th>\n",
       "      <td>7143ce74749c9d588e3bef0a43260a2cdc5f29ba9e020d...</td>\n",
       "      <td>2022-10-16</td>\n",
       "      <td>1</td>\n",
       "      <td>17281</td>\n",
       "      <td>29</td>\n",
       "      <td>HIGHEND_PHONE</td>\n",
       "      <td>APP</td>\n",
       "      <td>Mobile Safari</td>\n",
       "      <td>iOS</td>\n",
       "      <td>M</td>\n",
       "      <td>RU</td>\n",
       "      <td>MOW</td>\n",
       "      <td>Москва</td>\n",
       "      <td>7</td>\n",
       "      <td>15</td>\n",
       "      <td>1</td>\n",
       "      <td>0</td>\n",
       "      <td>0</td>\n",
       "      <td>0</td>\n",
       "      <td>NaN</td>\n",
       "    </tr>\n",
       "    <tr>\n",
       "      <th>1</th>\n",
       "      <td>5ab91653f362eb92a4f1c4148aff76c5145f40d3fbd8c7...</td>\n",
       "      <td>2022-10-20</td>\n",
       "      <td>1</td>\n",
       "      <td>11626</td>\n",
       "      <td>24</td>\n",
       "      <td>HIGHEND_PHONE</td>\n",
       "      <td>APP</td>\n",
       "      <td>Mobile Safari</td>\n",
       "      <td>iOS</td>\n",
       "      <td>M</td>\n",
       "      <td>RU</td>\n",
       "      <td>LEN</td>\n",
       "      <td>NaN</td>\n",
       "      <td>4</td>\n",
       "      <td>12</td>\n",
       "      <td>0</td>\n",
       "      <td>0</td>\n",
       "      <td>0</td>\n",
       "      <td>0</td>\n",
       "      <td>Ваша карта Tinkoff Black</td>\n",
       "    </tr>\n",
       "    <tr>\n",
       "      <th>2</th>\n",
       "      <td>4843a90a104d5b37e2db0c961dafb94c4a0d6ef40254f8...</td>\n",
       "      <td>2022-10-16</td>\n",
       "      <td>1</td>\n",
       "      <td>19778</td>\n",
       "      <td>30</td>\n",
       "      <td>HIGHEND_PHONE</td>\n",
       "      <td>APP</td>\n",
       "      <td>Unknown MIUI Browser</td>\n",
       "      <td>Android</td>\n",
       "      <td>F</td>\n",
       "      <td>RU</td>\n",
       "      <td>ORL</td>\n",
       "      <td>Орёл</td>\n",
       "      <td>7</td>\n",
       "      <td>15</td>\n",
       "      <td>0</td>\n",
       "      <td>0</td>\n",
       "      <td>0</td>\n",
       "      <td>0</td>\n",
       "      <td>Ваши  письма  в прошлое</td>\n",
       "    </tr>\n",
       "    <tr>\n",
       "      <th>3</th>\n",
       "      <td>17e7d4120c85e408dbc595ab0b4cb2ab635533ab2b0766...</td>\n",
       "      <td>2022-10-18</td>\n",
       "      <td>1</td>\n",
       "      <td>20879</td>\n",
       "      <td>50</td>\n",
       "      <td>HIGHEND_PHONE</td>\n",
       "      <td>APP</td>\n",
       "      <td>Mobile Safari</td>\n",
       "      <td>iOS</td>\n",
       "      <td>M</td>\n",
       "      <td>RU</td>\n",
       "      <td>TOM</td>\n",
       "      <td>Стрежевой</td>\n",
       "      <td>2</td>\n",
       "      <td>6</td>\n",
       "      <td>0</td>\n",
       "      <td>0</td>\n",
       "      <td>0</td>\n",
       "      <td>0</td>\n",
       "      <td>NaN</td>\n",
       "    </tr>\n",
       "    <tr>\n",
       "      <th>4</th>\n",
       "      <td>40d07976dfb816a26ee87dc4289dea4e19f8522b3cab67...</td>\n",
       "      <td>2022-10-21</td>\n",
       "      <td>1</td>\n",
       "      <td>20460</td>\n",
       "      <td>19</td>\n",
       "      <td>HIGHEND_PHONE</td>\n",
       "      <td>APP</td>\n",
       "      <td>Unknown Android App</td>\n",
       "      <td>Android</td>\n",
       "      <td>M</td>\n",
       "      <td>RU</td>\n",
       "      <td>IRK</td>\n",
       "      <td>Черемхово</td>\n",
       "      <td>5</td>\n",
       "      <td>11</td>\n",
       "      <td>0</td>\n",
       "      <td>0</td>\n",
       "      <td>0</td>\n",
       "      <td>0</td>\n",
       "      <td>NaN</td>\n",
       "    </tr>\n",
       "  </tbody>\n",
       "</table>\n",
       "</div>"
      ],
      "text/plain": [
       "                                             user_id       date_  prosmotr  \\\n",
       "0  7143ce74749c9d588e3bef0a43260a2cdc5f29ba9e020d...  2022-10-16         1   \n",
       "1  5ab91653f362eb92a4f1c4148aff76c5145f40d3fbd8c7...  2022-10-20         1   \n",
       "2  4843a90a104d5b37e2db0c961dafb94c4a0d6ef40254f8...  2022-10-16         1   \n",
       "3  17e7d4120c85e408dbc595ab0b4cb2ab635533ab2b0766...  2022-10-18         1   \n",
       "4  40d07976dfb816a26ee87dc4289dea4e19f8522b3cab67...  2022-10-21         1   \n",
       "\n",
       "   story_id  age    device_type app_or_web               browser       os  \\\n",
       "0     17281   29  HIGHEND_PHONE        APP         Mobile Safari      iOS   \n",
       "1     11626   24  HIGHEND_PHONE        APP         Mobile Safari      iOS   \n",
       "2     19778   30  HIGHEND_PHONE        APP  Unknown MIUI Browser  Android   \n",
       "3     20879   50  HIGHEND_PHONE        APP         Mobile Safari      iOS   \n",
       "4     20460   19  HIGHEND_PHONE        APP   Unknown Android App  Android   \n",
       "\n",
       "  gender geo_country geo_region   geo_city day_of_week user_hour  \\\n",
       "0      M          RU        MOW     Москва           7        15   \n",
       "1      M          RU        LEN        NaN           4        12   \n",
       "2      F          RU        ORL       Орёл           7        15   \n",
       "3      M          RU        TOM  Стрежевой           2         6   \n",
       "4      M          RU        IRK  Черемхово           5        11   \n",
       "\n",
       "   button_tap_flg  like_tap_flg  share_tap_flg  favorite_tap_flg  \\\n",
       "0               1             0              0                 0   \n",
       "1               0             0              0                 0   \n",
       "2               0             0              0                 0   \n",
       "3               0             0              0                 0   \n",
       "4               0             0              0                 0   \n",
       "\n",
       "                       name  \n",
       "0                       NaN  \n",
       "1  Ваша карта Tinkoff Black  \n",
       "2   Ваши  письма  в прошлое  \n",
       "3                       NaN  \n",
       "4                       NaN  "
      ]
     },
     "execution_count": 35,
     "metadata": {},
     "output_type": "execute_result"
    }
   ],
   "source": [
    "for i in range(data.shape[0]):\n",
    "    if data.iloc[i, 1] == '2022-10-16': \n",
    "        data.iloc[i, 13] = 7\n",
    "    elif data.iloc[i, 1] == '2022-10-17': \n",
    "        data.iloc[i, 13] = 1\n",
    "    elif data.iloc[i, 1] == '2022-10-18':\n",
    "        data.iloc[i, 13] = 2\n",
    "    elif data.iloc[i, 1] == '2022-10-20': \n",
    "        data.iloc[i, 13] = 4\n",
    "    elif data.iloc[i, 1] == '2022-10-21': \n",
    "        data.iloc[i, 13] = 5\n",
    "    else: \n",
    "        data.iloc[i, 13] = 6\n",
    "data.head()"
   ]
  },
  {
   "cell_type": "code",
   "execution_count": 36,
   "id": "97be4efe",
   "metadata": {},
   "outputs": [
    {
     "data": {
      "text/plain": [
       "[Text(0.5, 1.0, 'Гистограмма по часам и количеству просмотров'),\n",
       " Text(0.5, 0, 'Час'),\n",
       " Text(0, 0.5, 'Количество просмотров')]"
      ]
     },
     "execution_count": 36,
     "metadata": {},
     "output_type": "execute_result"
    },
    {
     "data": {
      "image/png": "[encoded data removed]",
      "text/plain": [
       "<Figure size 640x480 with 1 Axes>"
      ]
     },
     "metadata": {},
     "output_type": "display_data"
    }
   ],
   "source": [
    "#гистограмма по дням и количеству просмотров \n",
    "sns.countplot(data = data, x = 'user_hour').set(title='Гистограмма по часам и количеству просмотров', xlabel='Час', ylabel='Количество просмотров')"
   ]
  },
  {
   "cell_type": "code",
   "execution_count": 37,
   "id": "cd2dc582",
   "metadata": {},
   "outputs": [
    {
     "data": {
      "text/plain": [
       "[Text(0.5, 1.0, 'Box-plot по часам просмотра'), Text(0, 0.5, 'Часы')]"
      ]
     },
     "execution_count": 37,
     "metadata": {},
     "output_type": "execute_result"
    },
    {
     "data": {
      "image/png": "[encoded data removed]",
      "text/plain": [
       "<Figure size 640x480 with 1 Axes>"
      ]
     },
     "metadata": {},
     "output_type": "display_data"
    }
   ],
   "source": [
    "sns.boxplot(data=data, y='user_hour').set(title='Box-plot по часам просмотра', ylabel='Часы')"
   ]
  },
  {
   "cell_type": "code",
   "execution_count": 38,
   "id": "6e0f841e",
   "metadata": {},
   "outputs": [
    {
     "data": {
      "text/plain": [
       "[Text(0.5, 1.0, 'Количество просмотров за день'),\n",
       " Text(0.5, 0, 'День'),\n",
       " Text(0, 0.5, 'Количетсво просмотров')]"
      ]
     },
     "execution_count": 38,
     "metadata": {},
     "output_type": "execute_result"
    },
    {
     "data": {
      "image/png": "[encoded data removed]",
      "text/plain": [
       "<Figure size 640x480 with 1 Axes>"
      ]
     },
     "metadata": {},
     "output_type": "display_data"
    }
   ],
   "source": [
    "#гистограмма по дням и количеству просмотров \n",
    "sns.countplot(data=data, x='day_of_week').set(title='Количество просмотров за день', xlabel='День', ylabel='Количетсво просмотров')"
   ]
  },
  {
   "cell_type": "code",
   "execution_count": 39,
   "id": "02d1e08c",
   "metadata": {},
   "outputs": [
    {
     "name": "stdout",
     "output_type": "stream",
     "text": [
      "Корреляция между днём просмотра и часом: 0.13\n"
     ]
    }
   ],
   "source": [
    "corr_day_hour = np.corrcoef(list(data.day_of_week), list(data.user_hour)) \n",
    "print('Корреляция между днём просмотра и часом:', round(corr_day_hour[0][1], 2))"
   ]
  },
  {
   "cell_type": "code",
   "execution_count": 40,
   "id": "b33e9d24",
   "metadata": {},
   "outputs": [
    {
     "data": {
      "text/plain": [
       "[Text(0.5, 1.0, 'Box-plot по дням недели'), Text(0, 0.5, 'День недели')]"
      ]
     },
     "execution_count": 40,
     "metadata": {},
     "output_type": "execute_result"
    },
    {
     "data": {
      "image/png": "[encoded data removed]",
      "text/plain": [
       "<Figure size 640x480 with 1 Axes>"
      ]
     },
     "metadata": {},
     "output_type": "display_data"
    }
   ],
   "source": [
    "sns.boxplot(data=data, y='day_of_week').set(title='Box-plot по дням недели', ylabel='День недели')"
   ]
  },
  {
   "cell_type": "code",
   "execution_count": 41,
   "id": "a6686678",
   "metadata": {},
   "outputs": [
    {
     "data": {
      "text/plain": [
       "4    147029\n",
       "7    130012\n",
       "5    128033\n",
       "6    123600\n",
       "1     67741\n",
       "2     48975\n",
       "Name: day_of_week, dtype: int64"
      ]
     },
     "execution_count": 41,
     "metadata": {},
     "output_type": "execute_result"
    }
   ],
   "source": [
    "data.day_of_week.value_counts()"
   ]
  },
  {
   "cell_type": "code",
   "execution_count": 42,
   "id": "5daf14a5",
   "metadata": {},
   "outputs": [
    {
     "data": {
      "text/plain": [
       "[Text(0.5, 1.0, 'Гистограмма по часам и просмотрам в четверг'),\n",
       " Text(0.5, 0, 'Час'),\n",
       " Text(0, 0.5, 'Просмотры')]"
      ]
     },
     "execution_count": 42,
     "metadata": {},
     "output_type": "execute_result"
    },
    {
     "data": {
      "image/png": "[encoded data removed]",
      "text/plain": [
       "<Figure size 640x480 with 1 Axes>"
      ]
     },
     "metadata": {},
     "output_type": "display_data"
    }
   ],
   "source": [
    "data_4 = data[data.day_of_week == 4] \n",
    "sns.countplot(data=data_4, x='user_hour').set(title='Гистограмма по часам и просмотрам в четверг', xlabel='Час', ylabel='Просмотры')"
   ]
  },
  {
   "cell_type": "code",
   "execution_count": 43,
   "id": "32667fe8",
   "metadata": {},
   "outputs": [
    {
     "data": {
      "text/plain": [
       "Страхи в начале бизнеса            5461\n",
       "Частые траты                       4291\n",
       "Ваши траты на продукты             3501\n",
       "ПДД для  самокатов                 3046\n",
       "Новости  про деньги  28 октября    2575\n",
       "                                   ... \n",
       "Топ-5 RPG                             1\n",
       "Рассчитали   для вас   ОСАГО          1\n",
       "Бизнес-сообщество в Липецке           1\n",
       "750 миль  за друга                    1\n",
       "Где самые  выгодные  налоги           1\n",
       "Name: name, Length: 435, dtype: int64"
      ]
     },
     "execution_count": 43,
     "metadata": {},
     "output_type": "execute_result"
    }
   ],
   "source": [
    "data_4.name.value_counts()"
   ]
  },
  {
   "cell_type": "code",
   "execution_count": 44,
   "id": "80006125",
   "metadata": {},
   "outputs": [
    {
     "data": {
      "text/plain": [
       "Страхи в начале бизнеса        22951\n",
       "Частые траты                   19403\n",
       "Ваши траты на продукты         16285\n",
       "ПДД для  самокатов             12779\n",
       "Больше  в ленте  «Для вас»      9363\n",
       "                               ...  \n",
       "Бизнес-сообщество в Липецке        1\n",
       "750 бонусов  за друга              1\n",
       "Бесплатная  помощь  при ДТП        1\n",
       "История  базовой  одежды           1\n",
       "100 млн  рублей  инвесторам        1\n",
       "Name: name, Length: 496, dtype: int64"
      ]
     },
     "execution_count": 44,
     "metadata": {},
     "output_type": "execute_result"
    }
   ],
   "source": [
    "data.name.value_counts()"
   ]
  },
  {
   "cell_type": "code",
   "execution_count": 45,
   "id": "1cfcac77",
   "metadata": {},
   "outputs": [
    {
     "data": {
      "text/html": [
       "<div>\n",
       "<style scoped>\n",
       "    .dataframe tbody tr th:only-of-type {\n",
       "        vertical-align: middle;\n",
       "    }\n",
       "\n",
       "    .dataframe tbody tr th {\n",
       "        vertical-align: top;\n",
       "    }\n",
       "\n",
       "    .dataframe thead th {\n",
       "        text-align: right;\n",
       "    }\n",
       "</style>\n",
       "<table border=\"1\" class=\"dataframe\">\n",
       "  <thead>\n",
       "    <tr style=\"text-align: right;\">\n",
       "      <th></th>\n",
       "      <th>user_id</th>\n",
       "      <th>date_</th>\n",
       "      <th>prosmotr</th>\n",
       "      <th>story_id</th>\n",
       "      <th>age</th>\n",
       "      <th>device_type</th>\n",
       "      <th>app_or_web</th>\n",
       "      <th>browser</th>\n",
       "      <th>os</th>\n",
       "      <th>gender</th>\n",
       "      <th>geo_country</th>\n",
       "      <th>geo_region</th>\n",
       "      <th>geo_city</th>\n",
       "      <th>day_of_week</th>\n",
       "      <th>user_hour</th>\n",
       "      <th>button_tap_flg</th>\n",
       "      <th>like_tap_flg</th>\n",
       "      <th>share_tap_flg</th>\n",
       "      <th>favorite_tap_flg</th>\n",
       "      <th>name</th>\n",
       "    </tr>\n",
       "  </thead>\n",
       "  <tbody>\n",
       "    <tr>\n",
       "      <th>0</th>\n",
       "      <td>7143ce74749c9d588e3bef0a43260a2cdc5f29ba9e020d...</td>\n",
       "      <td>2022-10-16</td>\n",
       "      <td>1</td>\n",
       "      <td>17281</td>\n",
       "      <td>29</td>\n",
       "      <td>HIGHEND_PHONE</td>\n",
       "      <td>APP</td>\n",
       "      <td>Mobile Safari</td>\n",
       "      <td>iOS</td>\n",
       "      <td>Мужской пол</td>\n",
       "      <td>RU</td>\n",
       "      <td>MOW</td>\n",
       "      <td>Москва</td>\n",
       "      <td>7</td>\n",
       "      <td>15</td>\n",
       "      <td>1</td>\n",
       "      <td>0</td>\n",
       "      <td>0</td>\n",
       "      <td>0</td>\n",
       "      <td>NaN</td>\n",
       "    </tr>\n",
       "    <tr>\n",
       "      <th>1</th>\n",
       "      <td>5ab91653f362eb92a4f1c4148aff76c5145f40d3fbd8c7...</td>\n",
       "      <td>2022-10-20</td>\n",
       "      <td>1</td>\n",
       "      <td>11626</td>\n",
       "      <td>24</td>\n",
       "      <td>HIGHEND_PHONE</td>\n",
       "      <td>APP</td>\n",
       "      <td>Mobile Safari</td>\n",
       "      <td>iOS</td>\n",
       "      <td>Мужской пол</td>\n",
       "      <td>RU</td>\n",
       "      <td>LEN</td>\n",
       "      <td>NaN</td>\n",
       "      <td>4</td>\n",
       "      <td>12</td>\n",
       "      <td>0</td>\n",
       "      <td>0</td>\n",
       "      <td>0</td>\n",
       "      <td>0</td>\n",
       "      <td>Ваша карта Tinkoff Black</td>\n",
       "    </tr>\n",
       "    <tr>\n",
       "      <th>2</th>\n",
       "      <td>4843a90a104d5b37e2db0c961dafb94c4a0d6ef40254f8...</td>\n",
       "      <td>2022-10-16</td>\n",
       "      <td>1</td>\n",
       "      <td>19778</td>\n",
       "      <td>30</td>\n",
       "      <td>HIGHEND_PHONE</td>\n",
       "      <td>APP</td>\n",
       "      <td>Unknown MIUI Browser</td>\n",
       "      <td>Android</td>\n",
       "      <td>Женский пол</td>\n",
       "      <td>RU</td>\n",
       "      <td>ORL</td>\n",
       "      <td>Орёл</td>\n",
       "      <td>7</td>\n",
       "      <td>15</td>\n",
       "      <td>0</td>\n",
       "      <td>0</td>\n",
       "      <td>0</td>\n",
       "      <td>0</td>\n",
       "      <td>Ваши  письма  в прошлое</td>\n",
       "    </tr>\n",
       "    <tr>\n",
       "      <th>3</th>\n",
       "      <td>17e7d4120c85e408dbc595ab0b4cb2ab635533ab2b0766...</td>\n",
       "      <td>2022-10-18</td>\n",
       "      <td>1</td>\n",
       "      <td>20879</td>\n",
       "      <td>50</td>\n",
       "      <td>HIGHEND_PHONE</td>\n",
       "      <td>APP</td>\n",
       "      <td>Mobile Safari</td>\n",
       "      <td>iOS</td>\n",
       "      <td>Мужской пол</td>\n",
       "      <td>RU</td>\n",
       "      <td>TOM</td>\n",
       "      <td>Стрежевой</td>\n",
       "      <td>2</td>\n",
       "      <td>6</td>\n",
       "      <td>0</td>\n",
       "      <td>0</td>\n",
       "      <td>0</td>\n",
       "      <td>0</td>\n",
       "      <td>NaN</td>\n",
       "    </tr>\n",
       "    <tr>\n",
       "      <th>4</th>\n",
       "      <td>40d07976dfb816a26ee87dc4289dea4e19f8522b3cab67...</td>\n",
       "      <td>2022-10-21</td>\n",
       "      <td>1</td>\n",
       "      <td>20460</td>\n",
       "      <td>19</td>\n",
       "      <td>HIGHEND_PHONE</td>\n",
       "      <td>APP</td>\n",
       "      <td>Unknown Android App</td>\n",
       "      <td>Android</td>\n",
       "      <td>Мужской пол</td>\n",
       "      <td>RU</td>\n",
       "      <td>IRK</td>\n",
       "      <td>Черемхово</td>\n",
       "      <td>5</td>\n",
       "      <td>11</td>\n",
       "      <td>0</td>\n",
       "      <td>0</td>\n",
       "      <td>0</td>\n",
       "      <td>0</td>\n",
       "      <td>NaN</td>\n",
       "    </tr>\n",
       "  </tbody>\n",
       "</table>\n",
       "</div>"
      ],
      "text/plain": [
       "                                             user_id       date_  prosmotr  \\\n",
       "0  7143ce74749c9d588e3bef0a43260a2cdc5f29ba9e020d...  2022-10-16         1   \n",
       "1  5ab91653f362eb92a4f1c4148aff76c5145f40d3fbd8c7...  2022-10-20         1   \n",
       "2  4843a90a104d5b37e2db0c961dafb94c4a0d6ef40254f8...  2022-10-16         1   \n",
       "3  17e7d4120c85e408dbc595ab0b4cb2ab635533ab2b0766...  2022-10-18         1   \n",
       "4  40d07976dfb816a26ee87dc4289dea4e19f8522b3cab67...  2022-10-21         1   \n",
       "\n",
       "   story_id  age    device_type app_or_web               browser       os  \\\n",
       "0     17281   29  HIGHEND_PHONE        APP         Mobile Safari      iOS   \n",
       "1     11626   24  HIGHEND_PHONE        APP         Mobile Safari      iOS   \n",
       "2     19778   30  HIGHEND_PHONE        APP  Unknown MIUI Browser  Android   \n",
       "3     20879   50  HIGHEND_PHONE        APP         Mobile Safari      iOS   \n",
       "4     20460   19  HIGHEND_PHONE        APP   Unknown Android App  Android   \n",
       "\n",
       "        gender geo_country geo_region   geo_city day_of_week user_hour  \\\n",
       "0  Мужской пол          RU        MOW     Москва           7        15   \n",
       "1  Мужской пол          RU        LEN        NaN           4        12   \n",
       "2  Женский пол          RU        ORL       Орёл           7        15   \n",
       "3  Мужской пол          RU        TOM  Стрежевой           2         6   \n",
       "4  Мужской пол          RU        IRK  Черемхово           5        11   \n",
       "\n",
       "   button_tap_flg  like_tap_flg  share_tap_flg  favorite_tap_flg  \\\n",
       "0               1             0              0                 0   \n",
       "1               0             0              0                 0   \n",
       "2               0             0              0                 0   \n",
       "3               0             0              0                 0   \n",
       "4               0             0              0                 0   \n",
       "\n",
       "                       name  \n",
       "0                       NaN  \n",
       "1  Ваша карта Tinkoff Black  \n",
       "2   Ваши  письма  в прошлое  \n",
       "3                       NaN  \n",
       "4                       NaN  "
      ]
     },
     "execution_count": 45,
     "metadata": {},
     "output_type": "execute_result"
    }
   ],
   "source": [
    "for i in range(data.shape[0]): \n",
    "    if data.iloc[i, 9] == 'M': \n",
    "        data.iloc[i, 9] = 'Мужской пол' \n",
    "    else: \n",
    "        data.iloc[i, 9] = 'Женский пол' \n",
    "data.head()"
   ]
  },
  {
   "cell_type": "code",
   "execution_count": 47,
   "id": "eaf6a118",
   "metadata": {},
   "outputs": [
    {
     "data": {
      "text/plain": [
       "[Text(0.5, 1.0, 'Гистограмма по гедеру и количеству просмотров'),\n",
       " Text(0.5, 0, 'Пол'),\n",
       " Text(0, 0.5, 'Количество просмотров')]"
      ]
     },
     "execution_count": 47,
     "metadata": {},
     "output_type": "execute_result"
    },
    {
     "data": {
      "image/png": "[encoded data removed]",
      "text/plain": [
       "<Figure size 640x480 with 1 Axes>"
      ]
     },
     "metadata": {},
     "output_type": "display_data"
    }
   ],
   "source": [
    "#анализ переменной gender\n",
    "sns.countplot(data=data, x='gender').set(title='Гистограмма по гедеру и количеству просмотров', xlabel='Пол', ylabel='Количество просмотров')"
   ]
  },
  {
   "cell_type": "code",
   "execution_count": null,
   "id": "1b447e99",
   "metadata": {},
   "outputs": [],
   "source": []
  }
 ],
 "metadata": {
  "kernelspec": {
   "display_name": "Python 3 (ipykernel)",
   "language": "python",
   "name": "python3"
  },
  "language_info": {
   "codemirror_mode": {
    "name": "ipython",
    "version": 3
   },
   "file_extension": ".py",
   "mimetype": "text/x-python",
   "name": "python",
   "nbconvert_exporter": "python",
   "pygments_lexer": "ipython3",
   "version": "3.9.13"
  }
 },
 "nbformat": 4,
 "nbformat_minor": 5
}
